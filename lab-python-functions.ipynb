{
 "cells": [
  {
   "cell_type": "markdown",
   "metadata": {},
   "source": [
    "# Lab | Functions"
   ]
  },
  {
   "cell_type": "markdown",
   "metadata": {
    "tags": []
   },
   "source": [
    "## Exercise: Managing Customer Orders with Functions\n",
    "\n",
    "In the previous exercise, you improved the code for managing customer orders by using loops and flow control. Now, let's take it a step further and refactor the code by introducing functions.\n",
    "\n",
    "Follow the steps below to complete the exercise:\n",
    "\n",
    "1. Define a function named `initialize_inventory` that takes `products` as a parameter. Inside the function, implement the code for initializing the inventory dictionary using a loop and user input.\n",
    "\n",
    "2. Define a function named `get_customer_orders` that takes no parameters. Inside the function, implement the code for prompting the user to enter the product names using a loop. The function should return the `customer_orders` set.\n",
    "\n",
    "3. Define a function named `update_inventory` that takes `customer_orders` and `inventory` as parameters. Inside the function, implement the code for updating the inventory dictionary based on the customer orders.\n",
    "\n",
    "4. Define a function named `calculate_order_statistics` that takes `customer_orders` and `products` as parameters. Inside the function, implement the code for calculating the order statistics (total products ordered, and percentage of unique products ordered). The function should return these values.\n",
    "\n",
    "5. Define a function named `print_order_statistics` that takes `order_statistics` as a parameter. Inside the function, implement the code for printing the order statistics.\n",
    "\n",
    "6. Define a function named `print_updated_inventory` that takes `inventory` as a parameter. Inside the function, implement the code for printing the updated inventory.\n",
    "\n",
    "7. Call the functions in the appropriate sequence to execute the program and manage customer orders.\n",
    "\n",
    "Hints for functions:\n",
    "\n",
    "- Consider the input parameters required for each function and their return values.\n",
    "- Utilize function parameters and return values to transfer data between functions.\n",
    "- Test your functions individually to ensure they work correctly.\n",
    "\n",
    "\n"
   ]
  },
  {
   "cell_type": "code",
   "execution_count": null,
   "metadata": {},
   "outputs": [],
   "source": [
    "#Define a function named initialize_inventory that takes products as a parameter.\n",
    "#Inside the function, implement the code for initializing the inventory dictionary using a loop and user input.\n",
    "\n",
    "def initialize_inventory(products):\n",
    "    inventory = {}\n",
    "\n",
    "    for product in products:\n",
    "        while True:\n",
    "            try:\n",
    "                quantity = int(input(f\"Enter the quantity of {product}: \"))\n",
    "                if quantity >= 0:\n",
    "                    break\n",
    "                else:\n",
    "                    print(\"Please enter a non-negative quantity.\")\n",
    "            except ValueError:\n",
    "                print(\"Invalid input. Please enter a valid integer.\")\n",
    "\n",
    "        inventory[product] = quantity\n",
    "\n",
    "    return inventory\n"
   ]
  },
  {
   "cell_type": "code",
   "execution_count": null,
   "metadata": {},
   "outputs": [],
   "source": [
    "#Define a function named get_customer_orders that takes no parameters. \n",
    "#Inside the function, implement the code for prompting the user to enter the product names using a loop. \n",
    "#The function should return the customer_orders set.\n",
    "\n",
    "def get_customer_orders():\n",
    "    customer_orders = set()\n",
    "    \n",
    "    while True:\n",
    "        product_name = input(\"Enter the name of a product that the customer wants to order (enter)'done' to finish): \")\n",
    "\n",
    "        if product_name.lower() == 'done':\n",
    "            break\n",
    "\n",
    "        customer_orders.add(product_name)\n",
    "  \n",
    "    return customer_orders"
   ]
  },
  {
   "cell_type": "code",
   "execution_count": null,
   "metadata": {},
   "outputs": [],
   "source": [
    "#Define a function named update_inventory that takes customer_orders and inventory as parameters. \n",
    "#Inside the function, implement the code for updating the inventory dictionary based on the customer orders.\n",
    "\n",
    "def update_inventory(customer_orders, inventory):\n",
    "    for product in customer_orders:\n",
    "        if product in inventory and inventory[product] > 0:\n",
    "            inventory[product] -= 1\n",
    "        else:\n",
    "            print(f\"Sorry, {product} is either not in stock or the quantity is insufficient.\")\n",
    "\n",
    "    return inventory\n",
    "    "
   ]
  },
  {
   "cell_type": "code",
   "execution_count": null,
   "metadata": {},
   "outputs": [],
   "source": [
    "#Define a function named calculate_order_statistics that takes customer_orders and products as parameters. \n",
    "#Inside the function, implement the code for calculating the order statistics \n",
    "#(total products ordered, and percentage of unique products ordered).\n",
    "#The function should return these values.\n",
    "\n",
    "def calculate_order_statistics(customer_orders, products):\n",
    "    # Calculate order statistics\n",
    "        total_products_ordered = len(customer_orders)\n",
    "        \n",
    "        unique_products_ordered = set(customer_orders)\n",
    "        \n",
    "        percentage_unique_products = (len(unique_products_ordered) / len(products)) * 100\n",
    "        \n",
    "        return total_products_ordered, percentage_unique_products"
   ]
  },
  {
   "cell_type": "code",
   "execution_count": null,
   "metadata": {},
   "outputs": [],
   "source": [
    "#Define a function named print_order_statistics that takes order_statistics as a parameter. \n",
    "#Inside the function, implement the code for printing the order statistics.\n",
    "\n",
    "def print_order_statistics(order_statistics):\n",
    "    print(\"total_products_ordered\", total_products_ordered)\n",
    "    print(\"percentage_unique-products\",percentage_unique_products)\n",
    "\n"
   ]
  },
  {
   "cell_type": "code",
   "execution_count": null,
   "metadata": {},
   "outputs": [],
   "source": [
    "#Define a function named print_updated_inventory that takes inventory as a parameter.\n",
    "#Inside the function, implement the code for printing the updated inventory.\n",
    "\n",
    "def print_updated_inventory(inventory):\n",
    "    print(inventory)\n"
   ]
  },
  {
   "cell_type": "code",
   "execution_count": null,
   "metadata": {},
   "outputs": [],
   "source": [
    "initialize_inventory(products)"
   ]
  },
  {
   "cell_type": "code",
   "execution_count": null,
   "metadata": {},
   "outputs": [],
   "source": [
    "get_customer_orders()"
   ]
  },
  {
   "cell_type": "code",
   "execution_count": null,
   "metadata": {},
   "outputs": [],
   "source": [
    "update_inventory(customer_orders, inventory)"
   ]
  },
  {
   "cell_type": "code",
   "execution_count": null,
   "metadata": {},
   "outputs": [],
   "source": [
    "calculate_order_statistics(customer_orders, products)"
   ]
  },
  {
   "cell_type": "code",
   "execution_count": null,
   "metadata": {},
   "outputs": [],
   "source": [
    "print(print_order_statistics)"
   ]
  },
  {
   "cell_type": "code",
   "execution_count": null,
   "metadata": {},
   "outputs": [],
   "source": [
    "print_updated_inventory(inventory)"
   ]
  },
  {
   "cell_type": "code",
   "execution_count": null,
   "metadata": {},
   "outputs": [],
   "source": []
  }
 ],
 "metadata": {
  "kernelspec": {
   "display_name": "Python 3",
   "language": "python",
   "name": "python3"
  },
  "language_info": {
   "codemirror_mode": {
    "name": "ipython",
    "version": 3
   },
   "file_extension": ".py",
   "mimetype": "text/x-python",
   "name": "python",
   "nbconvert_exporter": "python",
   "pygments_lexer": "ipython3",
   "version": "3.8.5"
  }
 },
 "nbformat": 4,
 "nbformat_minor": 5
}
