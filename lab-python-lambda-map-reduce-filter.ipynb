{
 "cells": [
  {
   "cell_type": "markdown",
   "metadata": {},
   "source": [
    "# Lab | Lambda Functions, Map, Reduce, Filter"
   ]
  },
  {
   "cell_type": "markdown",
   "metadata": {},
   "source": [
    "Objective: The objective of this lab is to help students gain familiarity with using anonymous lambda functions and map, reduce, and filter methods in Python."
   ]
  },
  {
   "cell_type": "markdown",
   "metadata": {},
   "source": [
    "Lambda functions, map, reduce, and filter are all related to functional programming in Python. \n",
    "\n",
    "**Lambda functions** are anonymous functions in Python, which means that they do not need to be defined with a name. They are typically used for short, one-line functions that are not going to be used elsewhere in the code. \n",
    "\n",
    "Lambda functions can take any number of arguments, but they can only contain a single expression. They are often used in combination with other built-in functions like map, reduce, and filter to perform operations on lists or other iterables."
   ]
  },
  {
   "cell_type": "markdown",
   "metadata": {},
   "source": [
    "**Map** is a function that applies a given function to every element of a list, returning a new list with the transformed values. It's a useful way to apply the same operation to every element of a list, without having to write a for loop.\n",
    "\n",
    "**Reduce** is a function that applies a given function to the first two elements of a list, then applies the same function to the result and the next element, and so on, until it has reduced the list to a single value. It's useful for performing cumulative operations like summing or multiplying a list of numbers.\n",
    "\n",
    "**Filter** is a function that takes a function and a list, and returns a new list containing only the elements of the original list for which the function returns True. It's a useful way to selectively extract elements from a list based on a certain condition."
   ]
  },
  {
   "cell_type": "markdown",
   "metadata": {},
   "source": [
    "All of these concepts can be used to make your code more concise and expressive, especially when working with lists or other iterables. They are also useful in data manipulation tasks, such as cleaning and transforming data in a pandas DataFrame. By practicing with these concepts in the lab, you will gain a better understanding of how to use them in a variety of programming tasks."
   ]
  },
  {
   "cell_type": "markdown",
   "metadata": {},
   "source": [
    "## Challenge 1"
   ]
  },
  {
   "cell_type": "markdown",
   "metadata": {},
   "source": [
    "In this Challenge we will use the following data, which is a list of bank transactions:"
   ]
  },
  {
   "cell_type": "code",
   "execution_count": 11,
   "metadata": {},
   "outputs": [],
   "source": [
    "transactions = [(-1200, 'debit'), (2500, 'credit'), (-100, 'debit'), (850, 'credit'), (-250, 'debit'), (1500, 'credit'), (-300, 'debit'), (5000, 'credit'), (-850, 'debit'), (1000, 'credit')]"
   ]
  },
  {
   "cell_type": "markdown",
   "metadata": {},
   "source": [
    "### Exercise 1"
   ]
  },
  {
   "cell_type": "markdown",
   "metadata": {},
   "source": [
    "Create a new list called credits that includes all of the debit transactions from the list transactions.\n",
    "\n",
    "Use the filter() function to create a new list called debits."
   ]
  },
  {
   "cell_type": "code",
   "execution_count": 26,
   "metadata": {},
   "outputs": [
    {
     "name": "stdout",
     "output_type": "stream",
     "text": [
      "Debits: [(-1200, 'debit'), (-100, 'debit'), (-250, 'debit'), (-300, 'debit'), (-850, 'debit')]\n"
     ]
    }
   ],
   "source": [
    "# your code goes here\n",
    "\n",
    "debits = list(filter(lambda x: x[1] =='debit', transactions))\n",
    "\n",
    "print(\"Debits:\", debits)"
   ]
  },
  {
   "cell_type": "markdown",
   "metadata": {},
   "source": [
    "### Exercise 2"
   ]
  },
  {
   "cell_type": "markdown",
   "metadata": {},
   "source": [
    "Create a new list that includes all of the debit transactions from the list transactions, sorted in descending order by amount.\n",
    "\n",
    "- Use the previously created debits list.\n",
    "- Define a lambda function called sort_descending that takes two tuples and returns True if the transaction amount of the first tuple is greater than the transaction amount of the second tuple.\n",
    "- Use the sorted() function with sort_descending and debits to create a new list."
   ]
  },
  {
   "cell_type": "code",
   "execution_count": 28,
   "metadata": {},
   "outputs": [
    {
     "name": "stdout",
     "output_type": "stream",
     "text": [
      "sorted_debits_descending [(-100, 'debit'), (-250, 'debit'), (-300, 'debit'), (-850, 'debit'), (-1200, 'debit')]\n"
     ]
    }
   ],
   "source": [
    "# your code goes here\n",
    "\n",
    "sort_descending = lambda x: x[0]\n",
    "\n",
    "sorted_debits_descending = sorted(debits, key=sort_descending, reverse=True)\n",
    "\n",
    "\n",
    "print(\"sorted_debits_descending\", sorted_debits_descending)"
   ]
  },
  {
   "cell_type": "code",
   "execution_count": null,
   "metadata": {},
   "outputs": [],
   "source": []
  },
  {
   "cell_type": "markdown",
   "metadata": {},
   "source": [
    "## Challenge 2:  Interest Calculation"
   ]
  },
  {
   "cell_type": "markdown",
   "metadata": {},
   "source": [
    "### Exercise 1"
   ]
  },
  {
   "cell_type": "markdown",
   "metadata": {},
   "source": [
    "Write Python code to take a list of bank account balances, and returns a new list containing the balance after one year of interest has been added. Use the map function to apply this function to the list of bank accounts, and take an interest rate of 0.05."
   ]
  },
  {
   "cell_type": "code",
   "execution_count": 29,
   "metadata": {},
   "outputs": [],
   "source": [
    "# create list of bank account balances\n",
    "balances = [100, 50, -25, 1000, -10]"
   ]
  },
  {
   "cell_type": "code",
   "execution_count": 30,
   "metadata": {},
   "outputs": [
    {
     "name": "stdout",
     "output_type": "stream",
     "text": [
      "New_Balances [105.0, 52.5, -26.25, 1050.0, -10.5]\n"
     ]
    }
   ],
   "source": [
    "# your code goes here\n",
    "\n",
    "new_balances = list(map(lambda balance: balance * (1 + 0.05), balances))\n",
    "\n",
    "print(\"New_Balances\", new_balances)"
   ]
  },
  {
   "cell_type": "markdown",
   "metadata": {},
   "source": [
    "### Exercise 2"
   ]
  },
  {
   "cell_type": "markdown",
   "metadata": {},
   "source": [
    "Write Python code to take a list of bank account dictionaries, each containing the account balance and interest rate, and returns a new list of dictionaries containing the balance after one year of interest has been added. Use the map function to apply this function to the list of bank accounts."
   ]
  },
  {
   "cell_type": "code",
   "execution_count": 34,
   "metadata": {},
   "outputs": [],
   "source": [
    "accounts = [\n",
    "    {'balance': 1000, 'interest_rate': 0.02},\n",
    "    {'balance': 2000, 'interest_rate': 0.01},\n",
    "    {'balance': 500, 'interest_rate': 0.03},\n",
    "]"
   ]
  },
  {
   "cell_type": "code",
   "execution_count": 37,
   "metadata": {},
   "outputs": [
    {
     "name": "stdout",
     "output_type": "stream",
     "text": [
      "New Balances after One Year of Interest: [{'balance': 1020.0, 'interest_rate': 0.02}, {'balance': 2020.0, 'interest_rate': 0.01}, {'balance': 515.0, 'interest_rate': 0.03}]\n"
     ]
    }
   ],
   "source": [
    "# your code goes here\n",
    "\n",
    "new_balances = list(map(lambda account: {'balance': account['balance'] * (1 + account['interest_rate']), 'interest_rate': account['interest_rate']}, accounts))\n",
    "\n",
    "\n",
    "print(\"New Balances after One Year of Interest:\", new_balances)\n",
    "\n",
    "\n",
    "\n"
   ]
  },
  {
   "cell_type": "markdown",
   "metadata": {},
   "source": [
    "## Challenge 3: Balance Reduction"
   ]
  },
  {
   "cell_type": "markdown",
   "metadata": {},
   "source": [
    "### Exercise 1"
   ]
  },
  {
   "cell_type": "markdown",
   "metadata": {},
   "source": [
    "Write Python code to take the new list of bank account balances (balances list after applying an interest_rate of 0.05, result of Challenge 1 Exercise 1), and print the total amount of negative balances. Use filter and reduce function."
   ]
  },
  {
   "cell_type": "code",
   "execution_count": 42,
   "metadata": {},
   "outputs": [
    {
     "name": "stdout",
     "output_type": "stream",
     "text": [
      "Negative Balances: [-26.25, -10.5]\n",
      "Total Amount of Negative Balances: -36.75\n"
     ]
    }
   ],
   "source": [
    "from functools import reduce\n",
    "\n",
    "# your code goes here\n",
    "new_balances = [105.0, 52.5, -26.25, 1050.0, -10.5]\n",
    "\n",
    "negative_balances = list(filter(lambda balance: balance < 0, new_balances))\n",
    "\n",
    "total_negative_balance = reduce(lambda x, y: x + y, negative_balances, 0)\n",
    "\n",
    "print(\"Negative Balances:\", negative_balances)\n",
    "print(\"Total Amount of Negative Balances:\", total_negative_balance)\n"
   ]
  },
  {
   "cell_type": "markdown",
   "metadata": {},
   "source": [
    "### Exercise 2"
   ]
  },
  {
   "cell_type": "markdown",
   "metadata": {},
   "source": [
    "Write a Python function called calculate_balance that takes a bank account dictionary as an argument and returns the remaining balance after subtracting all the withdrawals.\n",
    "\n",
    "Then, use the map function and the calculate_balance function to apply it to the list accounts. This should give you a list of remaining balances after all the withdrawals have been subtracted."
   ]
  },
  {
   "cell_type": "code",
   "execution_count": 5,
   "metadata": {},
   "outputs": [
    {
     "name": "stdout",
     "output_type": "stream",
     "text": [
      "Remaining Balances after Withdrawals: [650, 1600, 275]\n"
     ]
    }
   ],
   "source": [
    "accounts = [\n",
    "    {'balance': 1000, 'withdrawals': [100, 50, 200]},\n",
    "    {'balance': 2000, 'withdrawals': [300, 100]},\n",
    "    {'balance': 500, 'withdrawals': [50, 100, 75]},\n",
    "]\n",
    "\n",
    "\n",
    "# your code goes here\n",
    "def calculate_balance(account):\n",
    "    withdrawals = account.get('withdrawals', [])\n",
    "    remaining_balance = account['balance'] - sum(withdrawals)\n",
    "    return remaining_balance\n",
    "\n",
    "\n",
    "remaining_balances = list(map(calculate_balance, accounts))\n",
    "\n",
    "\n",
    "print(\"Remaining Balances after Withdrawals:\", remaining_balances)\n",
    " \n"
   ]
  }
 ],
 "metadata": {
  "kernelspec": {
   "display_name": "Python 3",
   "language": "python",
   "name": "python3"
  },
  "language_info": {
   "codemirror_mode": {
    "name": "ipython",
    "version": 3
   },
   "file_extension": ".py",
   "mimetype": "text/x-python",
   "name": "python",
   "nbconvert_exporter": "python",
   "pygments_lexer": "ipython3",
   "version": "3.8.5"
  }
 },
 "nbformat": 4,
 "nbformat_minor": 5
}
