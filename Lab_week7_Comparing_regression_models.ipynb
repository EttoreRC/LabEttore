{
 "cells": [
  {
   "cell_type": "code",
   "execution_count": 110,
   "metadata": {},
   "outputs": [],
   "source": [
    "### Encoding categorical variables\n",
    "import pandas as pd\n",
    "import seaborn as sns \n",
    "import matplotlib.pyplot as plt\n",
    "import numpy as np\n",
    "import warnings\n",
    "warnings.filterwarnings(\"ignore\")\n",
    "\n",
    "ca_df = pd.read_csv(\"marketing_customer_analysis_clean.csv\")"
   ]
  },
  {
   "cell_type": "code",
   "execution_count": 111,
   "metadata": {},
   "outputs": [
    {
     "data": {
      "text/html": [
       "<div>\n",
       "<style scoped>\n",
       "    .dataframe tbody tr th:only-of-type {\n",
       "        vertical-align: middle;\n",
       "    }\n",
       "\n",
       "    .dataframe tbody tr th {\n",
       "        vertical-align: top;\n",
       "    }\n",
       "\n",
       "    .dataframe thead th {\n",
       "        text-align: right;\n",
       "    }\n",
       "</style>\n",
       "<table border=\"1\" class=\"dataframe\">\n",
       "  <thead>\n",
       "    <tr style=\"text-align: right;\">\n",
       "      <th></th>\n",
       "      <th>unnamed:_0</th>\n",
       "      <th>customer</th>\n",
       "      <th>state</th>\n",
       "      <th>customer_lifetime_value</th>\n",
       "      <th>response</th>\n",
       "      <th>coverage</th>\n",
       "      <th>education</th>\n",
       "      <th>effective_to_date</th>\n",
       "      <th>employmentstatus</th>\n",
       "      <th>gender</th>\n",
       "      <th>...</th>\n",
       "      <th>number_of_policies</th>\n",
       "      <th>policy_type</th>\n",
       "      <th>policy</th>\n",
       "      <th>renew_offer_type</th>\n",
       "      <th>sales_channel</th>\n",
       "      <th>total_claim_amount</th>\n",
       "      <th>vehicle_class</th>\n",
       "      <th>vehicle_size</th>\n",
       "      <th>vehicle_type</th>\n",
       "      <th>month</th>\n",
       "    </tr>\n",
       "  </thead>\n",
       "  <tbody>\n",
       "    <tr>\n",
       "      <th>0</th>\n",
       "      <td>0</td>\n",
       "      <td>DK49336</td>\n",
       "      <td>Arizona</td>\n",
       "      <td>4809.216960</td>\n",
       "      <td>No</td>\n",
       "      <td>Basic</td>\n",
       "      <td>College</td>\n",
       "      <td>2011-02-18</td>\n",
       "      <td>Employed</td>\n",
       "      <td>M</td>\n",
       "      <td>...</td>\n",
       "      <td>9</td>\n",
       "      <td>Corporate Auto</td>\n",
       "      <td>Corporate L3</td>\n",
       "      <td>Offer3</td>\n",
       "      <td>Agent</td>\n",
       "      <td>292.800000</td>\n",
       "      <td>Four-Door Car</td>\n",
       "      <td>Medsize</td>\n",
       "      <td>A</td>\n",
       "      <td>2</td>\n",
       "    </tr>\n",
       "    <tr>\n",
       "      <th>1</th>\n",
       "      <td>1</td>\n",
       "      <td>KX64629</td>\n",
       "      <td>California</td>\n",
       "      <td>2228.525238</td>\n",
       "      <td>No</td>\n",
       "      <td>Basic</td>\n",
       "      <td>College</td>\n",
       "      <td>2011-01-18</td>\n",
       "      <td>Unemployed</td>\n",
       "      <td>F</td>\n",
       "      <td>...</td>\n",
       "      <td>1</td>\n",
       "      <td>Personal Auto</td>\n",
       "      <td>Personal L3</td>\n",
       "      <td>Offer4</td>\n",
       "      <td>Call Center</td>\n",
       "      <td>744.924331</td>\n",
       "      <td>Four-Door Car</td>\n",
       "      <td>Medsize</td>\n",
       "      <td>A</td>\n",
       "      <td>1</td>\n",
       "    </tr>\n",
       "    <tr>\n",
       "      <th>2</th>\n",
       "      <td>2</td>\n",
       "      <td>LZ68649</td>\n",
       "      <td>Washington</td>\n",
       "      <td>14947.917300</td>\n",
       "      <td>No</td>\n",
       "      <td>Basic</td>\n",
       "      <td>Bachelor</td>\n",
       "      <td>2011-02-10</td>\n",
       "      <td>Employed</td>\n",
       "      <td>M</td>\n",
       "      <td>...</td>\n",
       "      <td>2</td>\n",
       "      <td>Personal Auto</td>\n",
       "      <td>Personal L3</td>\n",
       "      <td>Offer3</td>\n",
       "      <td>Call Center</td>\n",
       "      <td>480.000000</td>\n",
       "      <td>SUV</td>\n",
       "      <td>Medsize</td>\n",
       "      <td>A</td>\n",
       "      <td>2</td>\n",
       "    </tr>\n",
       "    <tr>\n",
       "      <th>3</th>\n",
       "      <td>3</td>\n",
       "      <td>XL78013</td>\n",
       "      <td>Oregon</td>\n",
       "      <td>22332.439460</td>\n",
       "      <td>Yes</td>\n",
       "      <td>Extended</td>\n",
       "      <td>College</td>\n",
       "      <td>2011-01-11</td>\n",
       "      <td>Employed</td>\n",
       "      <td>M</td>\n",
       "      <td>...</td>\n",
       "      <td>2</td>\n",
       "      <td>Corporate Auto</td>\n",
       "      <td>Corporate L3</td>\n",
       "      <td>Offer2</td>\n",
       "      <td>Branch</td>\n",
       "      <td>484.013411</td>\n",
       "      <td>Four-Door Car</td>\n",
       "      <td>Medsize</td>\n",
       "      <td>A</td>\n",
       "      <td>1</td>\n",
       "    </tr>\n",
       "    <tr>\n",
       "      <th>4</th>\n",
       "      <td>4</td>\n",
       "      <td>QA50777</td>\n",
       "      <td>Oregon</td>\n",
       "      <td>9025.067525</td>\n",
       "      <td>No</td>\n",
       "      <td>Premium</td>\n",
       "      <td>Bachelor</td>\n",
       "      <td>2011-01-17</td>\n",
       "      <td>Medical Leave</td>\n",
       "      <td>F</td>\n",
       "      <td>...</td>\n",
       "      <td>7</td>\n",
       "      <td>Personal Auto</td>\n",
       "      <td>Personal L2</td>\n",
       "      <td>Offer1</td>\n",
       "      <td>Branch</td>\n",
       "      <td>707.925645</td>\n",
       "      <td>Four-Door Car</td>\n",
       "      <td>Medsize</td>\n",
       "      <td>A</td>\n",
       "      <td>1</td>\n",
       "    </tr>\n",
       "  </tbody>\n",
       "</table>\n",
       "<p>5 rows × 27 columns</p>\n",
       "</div>"
      ],
      "text/plain": [
       "   unnamed:_0 customer       state  customer_lifetime_value response  \\\n",
       "0           0  DK49336     Arizona              4809.216960       No   \n",
       "1           1  KX64629  California              2228.525238       No   \n",
       "2           2  LZ68649  Washington             14947.917300       No   \n",
       "3           3  XL78013      Oregon             22332.439460      Yes   \n",
       "4           4  QA50777      Oregon              9025.067525       No   \n",
       "\n",
       "   coverage education effective_to_date employmentstatus gender  ...  \\\n",
       "0     Basic   College        2011-02-18         Employed      M  ...   \n",
       "1     Basic   College        2011-01-18       Unemployed      F  ...   \n",
       "2     Basic  Bachelor        2011-02-10         Employed      M  ...   \n",
       "3  Extended   College        2011-01-11         Employed      M  ...   \n",
       "4   Premium  Bachelor        2011-01-17    Medical Leave      F  ...   \n",
       "\n",
       "   number_of_policies     policy_type        policy  renew_offer_type  \\\n",
       "0                   9  Corporate Auto  Corporate L3            Offer3   \n",
       "1                   1   Personal Auto   Personal L3            Offer4   \n",
       "2                   2   Personal Auto   Personal L3            Offer3   \n",
       "3                   2  Corporate Auto  Corporate L3            Offer2   \n",
       "4                   7   Personal Auto   Personal L2            Offer1   \n",
       "\n",
       "   sales_channel  total_claim_amount  vehicle_class  vehicle_size  \\\n",
       "0          Agent          292.800000  Four-Door Car       Medsize   \n",
       "1    Call Center          744.924331  Four-Door Car       Medsize   \n",
       "2    Call Center          480.000000            SUV       Medsize   \n",
       "3         Branch          484.013411  Four-Door Car       Medsize   \n",
       "4         Branch          707.925645  Four-Door Car       Medsize   \n",
       "\n",
       "  vehicle_type month  \n",
       "0            A     2  \n",
       "1            A     1  \n",
       "2            A     2  \n",
       "3            A     1  \n",
       "4            A     1  \n",
       "\n",
       "[5 rows x 27 columns]"
      ]
     },
     "execution_count": 111,
     "metadata": {},
     "output_type": "execute_result"
    }
   ],
   "source": [
    "ca_df.head()"
   ]
  },
  {
   "cell_type": "code",
   "execution_count": 112,
   "metadata": {},
   "outputs": [],
   "source": [
    "ca_df = ca_df.drop(columns = [\"unnamed:_0\", \"customer\", \"effective_to_date\"])"
   ]
  },
  {
   "cell_type": "code",
   "execution_count": 113,
   "metadata": {},
   "outputs": [
    {
     "data": {
      "text/html": [
       "<div>\n",
       "<style scoped>\n",
       "    .dataframe tbody tr th:only-of-type {\n",
       "        vertical-align: middle;\n",
       "    }\n",
       "\n",
       "    .dataframe tbody tr th {\n",
       "        vertical-align: top;\n",
       "    }\n",
       "\n",
       "    .dataframe thead th {\n",
       "        text-align: right;\n",
       "    }\n",
       "</style>\n",
       "<table border=\"1\" class=\"dataframe\">\n",
       "  <thead>\n",
       "    <tr style=\"text-align: right;\">\n",
       "      <th></th>\n",
       "      <th>state</th>\n",
       "      <th>customer_lifetime_value</th>\n",
       "      <th>response</th>\n",
       "      <th>coverage</th>\n",
       "      <th>education</th>\n",
       "      <th>employmentstatus</th>\n",
       "      <th>gender</th>\n",
       "      <th>income</th>\n",
       "      <th>location_code</th>\n",
       "      <th>marital_status</th>\n",
       "      <th>...</th>\n",
       "      <th>number_of_policies</th>\n",
       "      <th>policy_type</th>\n",
       "      <th>policy</th>\n",
       "      <th>renew_offer_type</th>\n",
       "      <th>sales_channel</th>\n",
       "      <th>total_claim_amount</th>\n",
       "      <th>vehicle_class</th>\n",
       "      <th>vehicle_size</th>\n",
       "      <th>vehicle_type</th>\n",
       "      <th>month</th>\n",
       "    </tr>\n",
       "  </thead>\n",
       "  <tbody>\n",
       "    <tr>\n",
       "      <th>0</th>\n",
       "      <td>Arizona</td>\n",
       "      <td>4809.216960</td>\n",
       "      <td>No</td>\n",
       "      <td>Basic</td>\n",
       "      <td>College</td>\n",
       "      <td>Employed</td>\n",
       "      <td>M</td>\n",
       "      <td>48029</td>\n",
       "      <td>Suburban</td>\n",
       "      <td>Married</td>\n",
       "      <td>...</td>\n",
       "      <td>9</td>\n",
       "      <td>Corporate Auto</td>\n",
       "      <td>Corporate L3</td>\n",
       "      <td>Offer3</td>\n",
       "      <td>Agent</td>\n",
       "      <td>292.800000</td>\n",
       "      <td>Four-Door Car</td>\n",
       "      <td>Medsize</td>\n",
       "      <td>A</td>\n",
       "      <td>2</td>\n",
       "    </tr>\n",
       "    <tr>\n",
       "      <th>1</th>\n",
       "      <td>California</td>\n",
       "      <td>2228.525238</td>\n",
       "      <td>No</td>\n",
       "      <td>Basic</td>\n",
       "      <td>College</td>\n",
       "      <td>Unemployed</td>\n",
       "      <td>F</td>\n",
       "      <td>0</td>\n",
       "      <td>Suburban</td>\n",
       "      <td>Single</td>\n",
       "      <td>...</td>\n",
       "      <td>1</td>\n",
       "      <td>Personal Auto</td>\n",
       "      <td>Personal L3</td>\n",
       "      <td>Offer4</td>\n",
       "      <td>Call Center</td>\n",
       "      <td>744.924331</td>\n",
       "      <td>Four-Door Car</td>\n",
       "      <td>Medsize</td>\n",
       "      <td>A</td>\n",
       "      <td>1</td>\n",
       "    </tr>\n",
       "    <tr>\n",
       "      <th>2</th>\n",
       "      <td>Washington</td>\n",
       "      <td>14947.917300</td>\n",
       "      <td>No</td>\n",
       "      <td>Basic</td>\n",
       "      <td>Bachelor</td>\n",
       "      <td>Employed</td>\n",
       "      <td>M</td>\n",
       "      <td>22139</td>\n",
       "      <td>Suburban</td>\n",
       "      <td>Single</td>\n",
       "      <td>...</td>\n",
       "      <td>2</td>\n",
       "      <td>Personal Auto</td>\n",
       "      <td>Personal L3</td>\n",
       "      <td>Offer3</td>\n",
       "      <td>Call Center</td>\n",
       "      <td>480.000000</td>\n",
       "      <td>SUV</td>\n",
       "      <td>Medsize</td>\n",
       "      <td>A</td>\n",
       "      <td>2</td>\n",
       "    </tr>\n",
       "    <tr>\n",
       "      <th>3</th>\n",
       "      <td>Oregon</td>\n",
       "      <td>22332.439460</td>\n",
       "      <td>Yes</td>\n",
       "      <td>Extended</td>\n",
       "      <td>College</td>\n",
       "      <td>Employed</td>\n",
       "      <td>M</td>\n",
       "      <td>49078</td>\n",
       "      <td>Suburban</td>\n",
       "      <td>Single</td>\n",
       "      <td>...</td>\n",
       "      <td>2</td>\n",
       "      <td>Corporate Auto</td>\n",
       "      <td>Corporate L3</td>\n",
       "      <td>Offer2</td>\n",
       "      <td>Branch</td>\n",
       "      <td>484.013411</td>\n",
       "      <td>Four-Door Car</td>\n",
       "      <td>Medsize</td>\n",
       "      <td>A</td>\n",
       "      <td>1</td>\n",
       "    </tr>\n",
       "    <tr>\n",
       "      <th>4</th>\n",
       "      <td>Oregon</td>\n",
       "      <td>9025.067525</td>\n",
       "      <td>No</td>\n",
       "      <td>Premium</td>\n",
       "      <td>Bachelor</td>\n",
       "      <td>Medical Leave</td>\n",
       "      <td>F</td>\n",
       "      <td>23675</td>\n",
       "      <td>Suburban</td>\n",
       "      <td>Married</td>\n",
       "      <td>...</td>\n",
       "      <td>7</td>\n",
       "      <td>Personal Auto</td>\n",
       "      <td>Personal L2</td>\n",
       "      <td>Offer1</td>\n",
       "      <td>Branch</td>\n",
       "      <td>707.925645</td>\n",
       "      <td>Four-Door Car</td>\n",
       "      <td>Medsize</td>\n",
       "      <td>A</td>\n",
       "      <td>1</td>\n",
       "    </tr>\n",
       "    <tr>\n",
       "      <th>...</th>\n",
       "      <td>...</td>\n",
       "      <td>...</td>\n",
       "      <td>...</td>\n",
       "      <td>...</td>\n",
       "      <td>...</td>\n",
       "      <td>...</td>\n",
       "      <td>...</td>\n",
       "      <td>...</td>\n",
       "      <td>...</td>\n",
       "      <td>...</td>\n",
       "      <td>...</td>\n",
       "      <td>...</td>\n",
       "      <td>...</td>\n",
       "      <td>...</td>\n",
       "      <td>...</td>\n",
       "      <td>...</td>\n",
       "      <td>...</td>\n",
       "      <td>...</td>\n",
       "      <td>...</td>\n",
       "      <td>...</td>\n",
       "      <td>...</td>\n",
       "    </tr>\n",
       "    <tr>\n",
       "      <th>10905</th>\n",
       "      <td>Nevada</td>\n",
       "      <td>15563.369440</td>\n",
       "      <td>No</td>\n",
       "      <td>Premium</td>\n",
       "      <td>Bachelor</td>\n",
       "      <td>Unemployed</td>\n",
       "      <td>F</td>\n",
       "      <td>0</td>\n",
       "      <td>Suburban</td>\n",
       "      <td>Married</td>\n",
       "      <td>...</td>\n",
       "      <td>7</td>\n",
       "      <td>Personal Auto</td>\n",
       "      <td>Personal L1</td>\n",
       "      <td>Offer3</td>\n",
       "      <td>Web</td>\n",
       "      <td>1214.400000</td>\n",
       "      <td>Luxury Car</td>\n",
       "      <td>Medsize</td>\n",
       "      <td>A</td>\n",
       "      <td>1</td>\n",
       "    </tr>\n",
       "    <tr>\n",
       "      <th>10906</th>\n",
       "      <td>Oregon</td>\n",
       "      <td>5259.444853</td>\n",
       "      <td>No</td>\n",
       "      <td>Basic</td>\n",
       "      <td>College</td>\n",
       "      <td>Employed</td>\n",
       "      <td>F</td>\n",
       "      <td>61146</td>\n",
       "      <td>Urban</td>\n",
       "      <td>Married</td>\n",
       "      <td>...</td>\n",
       "      <td>6</td>\n",
       "      <td>Personal Auto</td>\n",
       "      <td>Personal L3</td>\n",
       "      <td>Offer2</td>\n",
       "      <td>Branch</td>\n",
       "      <td>273.018929</td>\n",
       "      <td>Four-Door Car</td>\n",
       "      <td>Medsize</td>\n",
       "      <td>A</td>\n",
       "      <td>1</td>\n",
       "    </tr>\n",
       "    <tr>\n",
       "      <th>10907</th>\n",
       "      <td>Arizona</td>\n",
       "      <td>23893.304100</td>\n",
       "      <td>No</td>\n",
       "      <td>Extended</td>\n",
       "      <td>Bachelor</td>\n",
       "      <td>Employed</td>\n",
       "      <td>F</td>\n",
       "      <td>39837</td>\n",
       "      <td>Rural</td>\n",
       "      <td>Married</td>\n",
       "      <td>...</td>\n",
       "      <td>2</td>\n",
       "      <td>Corporate Auto</td>\n",
       "      <td>Corporate L3</td>\n",
       "      <td>Offer1</td>\n",
       "      <td>Web</td>\n",
       "      <td>381.306996</td>\n",
       "      <td>Luxury SUV</td>\n",
       "      <td>Medsize</td>\n",
       "      <td>A</td>\n",
       "      <td>2</td>\n",
       "    </tr>\n",
       "    <tr>\n",
       "      <th>10908</th>\n",
       "      <td>California</td>\n",
       "      <td>11971.977650</td>\n",
       "      <td>No</td>\n",
       "      <td>Premium</td>\n",
       "      <td>College</td>\n",
       "      <td>Employed</td>\n",
       "      <td>F</td>\n",
       "      <td>64195</td>\n",
       "      <td>Urban</td>\n",
       "      <td>Divorced</td>\n",
       "      <td>...</td>\n",
       "      <td>6</td>\n",
       "      <td>Personal Auto</td>\n",
       "      <td>Personal L1</td>\n",
       "      <td>Offer1</td>\n",
       "      <td>Branch</td>\n",
       "      <td>618.288849</td>\n",
       "      <td>SUV</td>\n",
       "      <td>Medsize</td>\n",
       "      <td>A</td>\n",
       "      <td>2</td>\n",
       "    </tr>\n",
       "    <tr>\n",
       "      <th>10909</th>\n",
       "      <td>California</td>\n",
       "      <td>6857.519928</td>\n",
       "      <td>No</td>\n",
       "      <td>Basic</td>\n",
       "      <td>Bachelor</td>\n",
       "      <td>Unemployed</td>\n",
       "      <td>M</td>\n",
       "      <td>0</td>\n",
       "      <td>Suburban</td>\n",
       "      <td>Single</td>\n",
       "      <td>...</td>\n",
       "      <td>3</td>\n",
       "      <td>Personal Auto</td>\n",
       "      <td>Personal L1</td>\n",
       "      <td>Offer4</td>\n",
       "      <td>Web</td>\n",
       "      <td>1021.719397</td>\n",
       "      <td>SUV</td>\n",
       "      <td>Medsize</td>\n",
       "      <td>A</td>\n",
       "      <td>1</td>\n",
       "    </tr>\n",
       "  </tbody>\n",
       "</table>\n",
       "<p>10910 rows × 24 columns</p>\n",
       "</div>"
      ],
      "text/plain": [
       "            state  customer_lifetime_value response  coverage education  \\\n",
       "0         Arizona              4809.216960       No     Basic   College   \n",
       "1      California              2228.525238       No     Basic   College   \n",
       "2      Washington             14947.917300       No     Basic  Bachelor   \n",
       "3          Oregon             22332.439460      Yes  Extended   College   \n",
       "4          Oregon              9025.067525       No   Premium  Bachelor   \n",
       "...           ...                      ...      ...       ...       ...   \n",
       "10905      Nevada             15563.369440       No   Premium  Bachelor   \n",
       "10906      Oregon              5259.444853       No     Basic   College   \n",
       "10907     Arizona             23893.304100       No  Extended  Bachelor   \n",
       "10908  California             11971.977650       No   Premium   College   \n",
       "10909  California              6857.519928       No     Basic  Bachelor   \n",
       "\n",
       "      employmentstatus gender  income location_code marital_status  ...  \\\n",
       "0             Employed      M   48029      Suburban        Married  ...   \n",
       "1           Unemployed      F       0      Suburban         Single  ...   \n",
       "2             Employed      M   22139      Suburban         Single  ...   \n",
       "3             Employed      M   49078      Suburban         Single  ...   \n",
       "4        Medical Leave      F   23675      Suburban        Married  ...   \n",
       "...                ...    ...     ...           ...            ...  ...   \n",
       "10905       Unemployed      F       0      Suburban        Married  ...   \n",
       "10906         Employed      F   61146         Urban        Married  ...   \n",
       "10907         Employed      F   39837         Rural        Married  ...   \n",
       "10908         Employed      F   64195         Urban       Divorced  ...   \n",
       "10909       Unemployed      M       0      Suburban         Single  ...   \n",
       "\n",
       "       number_of_policies     policy_type        policy  renew_offer_type  \\\n",
       "0                       9  Corporate Auto  Corporate L3            Offer3   \n",
       "1                       1   Personal Auto   Personal L3            Offer4   \n",
       "2                       2   Personal Auto   Personal L3            Offer3   \n",
       "3                       2  Corporate Auto  Corporate L3            Offer2   \n",
       "4                       7   Personal Auto   Personal L2            Offer1   \n",
       "...                   ...             ...           ...               ...   \n",
       "10905                   7   Personal Auto   Personal L1            Offer3   \n",
       "10906                   6   Personal Auto   Personal L3            Offer2   \n",
       "10907                   2  Corporate Auto  Corporate L3            Offer1   \n",
       "10908                   6   Personal Auto   Personal L1            Offer1   \n",
       "10909                   3   Personal Auto   Personal L1            Offer4   \n",
       "\n",
       "       sales_channel total_claim_amount  vehicle_class vehicle_size  \\\n",
       "0              Agent         292.800000  Four-Door Car      Medsize   \n",
       "1        Call Center         744.924331  Four-Door Car      Medsize   \n",
       "2        Call Center         480.000000            SUV      Medsize   \n",
       "3             Branch         484.013411  Four-Door Car      Medsize   \n",
       "4             Branch         707.925645  Four-Door Car      Medsize   \n",
       "...              ...                ...            ...          ...   \n",
       "10905            Web        1214.400000     Luxury Car      Medsize   \n",
       "10906         Branch         273.018929  Four-Door Car      Medsize   \n",
       "10907            Web         381.306996     Luxury SUV      Medsize   \n",
       "10908         Branch         618.288849            SUV      Medsize   \n",
       "10909            Web        1021.719397            SUV      Medsize   \n",
       "\n",
       "      vehicle_type  month  \n",
       "0                A      2  \n",
       "1                A      1  \n",
       "2                A      2  \n",
       "3                A      1  \n",
       "4                A      1  \n",
       "...            ...    ...  \n",
       "10905            A      1  \n",
       "10906            A      1  \n",
       "10907            A      2  \n",
       "10908            A      2  \n",
       "10909            A      1  \n",
       "\n",
       "[10910 rows x 24 columns]"
      ]
     },
     "execution_count": 113,
     "metadata": {},
     "output_type": "execute_result"
    }
   ],
   "source": [
    "ca_df"
   ]
  },
  {
   "cell_type": "code",
   "execution_count": 114,
   "metadata": {},
   "outputs": [],
   "source": [
    "categoricals = ca_df.select_dtypes(include=object)\n",
    "numericals = ca_df.select_dtypes(include = np.number)"
   ]
  },
  {
   "cell_type": "code",
   "execution_count": 115,
   "metadata": {},
   "outputs": [
    {
     "data": {
      "text/plain": [
       "array(['College', 'Bachelor', 'High School or Below', 'Doctor', 'Master'],\n",
       "      dtype=object)"
      ]
     },
     "execution_count": 115,
     "metadata": {},
     "output_type": "execute_result"
    }
   ],
   "source": [
    "ca_df[\"education\"].unique()"
   ]
  },
  {
   "cell_type": "code",
   "execution_count": 116,
   "metadata": {},
   "outputs": [],
   "source": [
    "ordinals = categoricals[[\"coverage\",\"education\",\"vehicle_size\"]]\n",
    "nominals = categoricals.drop(columns=[\"coverage\",\"education\",\"vehicle_size\"])"
   ]
  },
  {
   "cell_type": "code",
   "execution_count": 117,
   "metadata": {},
   "outputs": [],
   "source": [
    "from sklearn.preprocessing import OrdinalEncoder"
   ]
  },
  {
   "cell_type": "code",
   "execution_count": 118,
   "metadata": {},
   "outputs": [],
   "source": [
    "enc = OrdinalEncoder(categories=[[\"Basic\",\"Extended\",\"Premium\"]])\n",
    "\n",
    "ordinals[\"coverage\"] = enc.fit_transform(ordinals[[\"coverage\"]])\n",
    "\n",
    "enc = OrdinalEncoder(categories=[[\"High School or Below\", \"College\", \"Bachelor\",\"Master\", \"Doctor\"]])\n",
    "\n",
    "ordinals[\"education\"] = enc.fit_transform(ordinals[[\"education\"]])\n",
    "\n",
    "enc = OrdinalEncoder(categories=[[\"Small\",\"Medsize\",\"Large\"]])\n",
    "\n",
    "ordinals[\"vehicle_size\"] = enc.fit_transform(ordinals[[\"vehicle_size\"]])"
   ]
  },
  {
   "cell_type": "code",
   "execution_count": 119,
   "metadata": {},
   "outputs": [
    {
     "data": {
      "text/html": [
       "<div>\n",
       "<style scoped>\n",
       "    .dataframe tbody tr th:only-of-type {\n",
       "        vertical-align: middle;\n",
       "    }\n",
       "\n",
       "    .dataframe tbody tr th {\n",
       "        vertical-align: top;\n",
       "    }\n",
       "\n",
       "    .dataframe thead th {\n",
       "        text-align: right;\n",
       "    }\n",
       "</style>\n",
       "<table border=\"1\" class=\"dataframe\">\n",
       "  <thead>\n",
       "    <tr style=\"text-align: right;\">\n",
       "      <th></th>\n",
       "      <th>coverage</th>\n",
       "      <th>education</th>\n",
       "      <th>vehicle_size</th>\n",
       "    </tr>\n",
       "  </thead>\n",
       "  <tbody>\n",
       "    <tr>\n",
       "      <th>0</th>\n",
       "      <td>0.0</td>\n",
       "      <td>1.0</td>\n",
       "      <td>1.0</td>\n",
       "    </tr>\n",
       "    <tr>\n",
       "      <th>1</th>\n",
       "      <td>0.0</td>\n",
       "      <td>1.0</td>\n",
       "      <td>1.0</td>\n",
       "    </tr>\n",
       "    <tr>\n",
       "      <th>2</th>\n",
       "      <td>0.0</td>\n",
       "      <td>2.0</td>\n",
       "      <td>1.0</td>\n",
       "    </tr>\n",
       "    <tr>\n",
       "      <th>3</th>\n",
       "      <td>1.0</td>\n",
       "      <td>1.0</td>\n",
       "      <td>1.0</td>\n",
       "    </tr>\n",
       "    <tr>\n",
       "      <th>4</th>\n",
       "      <td>2.0</td>\n",
       "      <td>2.0</td>\n",
       "      <td>1.0</td>\n",
       "    </tr>\n",
       "    <tr>\n",
       "      <th>...</th>\n",
       "      <td>...</td>\n",
       "      <td>...</td>\n",
       "      <td>...</td>\n",
       "    </tr>\n",
       "    <tr>\n",
       "      <th>10905</th>\n",
       "      <td>2.0</td>\n",
       "      <td>2.0</td>\n",
       "      <td>1.0</td>\n",
       "    </tr>\n",
       "    <tr>\n",
       "      <th>10906</th>\n",
       "      <td>0.0</td>\n",
       "      <td>1.0</td>\n",
       "      <td>1.0</td>\n",
       "    </tr>\n",
       "    <tr>\n",
       "      <th>10907</th>\n",
       "      <td>1.0</td>\n",
       "      <td>2.0</td>\n",
       "      <td>1.0</td>\n",
       "    </tr>\n",
       "    <tr>\n",
       "      <th>10908</th>\n",
       "      <td>2.0</td>\n",
       "      <td>1.0</td>\n",
       "      <td>1.0</td>\n",
       "    </tr>\n",
       "    <tr>\n",
       "      <th>10909</th>\n",
       "      <td>0.0</td>\n",
       "      <td>2.0</td>\n",
       "      <td>1.0</td>\n",
       "    </tr>\n",
       "  </tbody>\n",
       "</table>\n",
       "<p>10910 rows × 3 columns</p>\n",
       "</div>"
      ],
      "text/plain": [
       "       coverage  education  vehicle_size\n",
       "0           0.0        1.0           1.0\n",
       "1           0.0        1.0           1.0\n",
       "2           0.0        2.0           1.0\n",
       "3           1.0        1.0           1.0\n",
       "4           2.0        2.0           1.0\n",
       "...         ...        ...           ...\n",
       "10905       2.0        2.0           1.0\n",
       "10906       0.0        1.0           1.0\n",
       "10907       1.0        2.0           1.0\n",
       "10908       2.0        1.0           1.0\n",
       "10909       0.0        2.0           1.0\n",
       "\n",
       "[10910 rows x 3 columns]"
      ]
     },
     "execution_count": 119,
     "metadata": {},
     "output_type": "execute_result"
    }
   ],
   "source": [
    "ordinals"
   ]
  },
  {
   "cell_type": "code",
   "execution_count": 120,
   "metadata": {},
   "outputs": [],
   "source": [
    "nominals = pd.get_dummies(nominals)"
   ]
  },
  {
   "cell_type": "code",
   "execution_count": 121,
   "metadata": {},
   "outputs": [
    {
     "data": {
      "text/html": [
       "<div>\n",
       "<style scoped>\n",
       "    .dataframe tbody tr th:only-of-type {\n",
       "        vertical-align: middle;\n",
       "    }\n",
       "\n",
       "    .dataframe tbody tr th {\n",
       "        vertical-align: top;\n",
       "    }\n",
       "\n",
       "    .dataframe thead th {\n",
       "        text-align: right;\n",
       "    }\n",
       "</style>\n",
       "<table border=\"1\" class=\"dataframe\">\n",
       "  <thead>\n",
       "    <tr style=\"text-align: right;\">\n",
       "      <th></th>\n",
       "      <th>state_Arizona</th>\n",
       "      <th>state_California</th>\n",
       "      <th>state_Nevada</th>\n",
       "      <th>state_Oregon</th>\n",
       "      <th>state_Washington</th>\n",
       "      <th>response_No</th>\n",
       "      <th>response_Yes</th>\n",
       "      <th>employmentstatus_Disabled</th>\n",
       "      <th>employmentstatus_Employed</th>\n",
       "      <th>employmentstatus_Medical Leave</th>\n",
       "      <th>...</th>\n",
       "      <th>sales_channel_Branch</th>\n",
       "      <th>sales_channel_Call Center</th>\n",
       "      <th>sales_channel_Web</th>\n",
       "      <th>vehicle_class_Four-Door Car</th>\n",
       "      <th>vehicle_class_Luxury Car</th>\n",
       "      <th>vehicle_class_Luxury SUV</th>\n",
       "      <th>vehicle_class_SUV</th>\n",
       "      <th>vehicle_class_Sports Car</th>\n",
       "      <th>vehicle_class_Two-Door Car</th>\n",
       "      <th>vehicle_type_A</th>\n",
       "    </tr>\n",
       "  </thead>\n",
       "  <tbody>\n",
       "    <tr>\n",
       "      <th>0</th>\n",
       "      <td>True</td>\n",
       "      <td>False</td>\n",
       "      <td>False</td>\n",
       "      <td>False</td>\n",
       "      <td>False</td>\n",
       "      <td>True</td>\n",
       "      <td>False</td>\n",
       "      <td>False</td>\n",
       "      <td>True</td>\n",
       "      <td>False</td>\n",
       "      <td>...</td>\n",
       "      <td>False</td>\n",
       "      <td>False</td>\n",
       "      <td>False</td>\n",
       "      <td>True</td>\n",
       "      <td>False</td>\n",
       "      <td>False</td>\n",
       "      <td>False</td>\n",
       "      <td>False</td>\n",
       "      <td>False</td>\n",
       "      <td>True</td>\n",
       "    </tr>\n",
       "    <tr>\n",
       "      <th>1</th>\n",
       "      <td>False</td>\n",
       "      <td>True</td>\n",
       "      <td>False</td>\n",
       "      <td>False</td>\n",
       "      <td>False</td>\n",
       "      <td>True</td>\n",
       "      <td>False</td>\n",
       "      <td>False</td>\n",
       "      <td>False</td>\n",
       "      <td>False</td>\n",
       "      <td>...</td>\n",
       "      <td>False</td>\n",
       "      <td>True</td>\n",
       "      <td>False</td>\n",
       "      <td>True</td>\n",
       "      <td>False</td>\n",
       "      <td>False</td>\n",
       "      <td>False</td>\n",
       "      <td>False</td>\n",
       "      <td>False</td>\n",
       "      <td>True</td>\n",
       "    </tr>\n",
       "    <tr>\n",
       "      <th>2</th>\n",
       "      <td>False</td>\n",
       "      <td>False</td>\n",
       "      <td>False</td>\n",
       "      <td>False</td>\n",
       "      <td>True</td>\n",
       "      <td>True</td>\n",
       "      <td>False</td>\n",
       "      <td>False</td>\n",
       "      <td>True</td>\n",
       "      <td>False</td>\n",
       "      <td>...</td>\n",
       "      <td>False</td>\n",
       "      <td>True</td>\n",
       "      <td>False</td>\n",
       "      <td>False</td>\n",
       "      <td>False</td>\n",
       "      <td>False</td>\n",
       "      <td>True</td>\n",
       "      <td>False</td>\n",
       "      <td>False</td>\n",
       "      <td>True</td>\n",
       "    </tr>\n",
       "    <tr>\n",
       "      <th>3</th>\n",
       "      <td>False</td>\n",
       "      <td>False</td>\n",
       "      <td>False</td>\n",
       "      <td>True</td>\n",
       "      <td>False</td>\n",
       "      <td>False</td>\n",
       "      <td>True</td>\n",
       "      <td>False</td>\n",
       "      <td>True</td>\n",
       "      <td>False</td>\n",
       "      <td>...</td>\n",
       "      <td>True</td>\n",
       "      <td>False</td>\n",
       "      <td>False</td>\n",
       "      <td>True</td>\n",
       "      <td>False</td>\n",
       "      <td>False</td>\n",
       "      <td>False</td>\n",
       "      <td>False</td>\n",
       "      <td>False</td>\n",
       "      <td>True</td>\n",
       "    </tr>\n",
       "    <tr>\n",
       "      <th>4</th>\n",
       "      <td>False</td>\n",
       "      <td>False</td>\n",
       "      <td>False</td>\n",
       "      <td>True</td>\n",
       "      <td>False</td>\n",
       "      <td>True</td>\n",
       "      <td>False</td>\n",
       "      <td>False</td>\n",
       "      <td>False</td>\n",
       "      <td>True</td>\n",
       "      <td>...</td>\n",
       "      <td>True</td>\n",
       "      <td>False</td>\n",
       "      <td>False</td>\n",
       "      <td>True</td>\n",
       "      <td>False</td>\n",
       "      <td>False</td>\n",
       "      <td>False</td>\n",
       "      <td>False</td>\n",
       "      <td>False</td>\n",
       "      <td>True</td>\n",
       "    </tr>\n",
       "    <tr>\n",
       "      <th>...</th>\n",
       "      <td>...</td>\n",
       "      <td>...</td>\n",
       "      <td>...</td>\n",
       "      <td>...</td>\n",
       "      <td>...</td>\n",
       "      <td>...</td>\n",
       "      <td>...</td>\n",
       "      <td>...</td>\n",
       "      <td>...</td>\n",
       "      <td>...</td>\n",
       "      <td>...</td>\n",
       "      <td>...</td>\n",
       "      <td>...</td>\n",
       "      <td>...</td>\n",
       "      <td>...</td>\n",
       "      <td>...</td>\n",
       "      <td>...</td>\n",
       "      <td>...</td>\n",
       "      <td>...</td>\n",
       "      <td>...</td>\n",
       "      <td>...</td>\n",
       "    </tr>\n",
       "    <tr>\n",
       "      <th>10905</th>\n",
       "      <td>False</td>\n",
       "      <td>False</td>\n",
       "      <td>True</td>\n",
       "      <td>False</td>\n",
       "      <td>False</td>\n",
       "      <td>True</td>\n",
       "      <td>False</td>\n",
       "      <td>False</td>\n",
       "      <td>False</td>\n",
       "      <td>False</td>\n",
       "      <td>...</td>\n",
       "      <td>False</td>\n",
       "      <td>False</td>\n",
       "      <td>True</td>\n",
       "      <td>False</td>\n",
       "      <td>True</td>\n",
       "      <td>False</td>\n",
       "      <td>False</td>\n",
       "      <td>False</td>\n",
       "      <td>False</td>\n",
       "      <td>True</td>\n",
       "    </tr>\n",
       "    <tr>\n",
       "      <th>10906</th>\n",
       "      <td>False</td>\n",
       "      <td>False</td>\n",
       "      <td>False</td>\n",
       "      <td>True</td>\n",
       "      <td>False</td>\n",
       "      <td>True</td>\n",
       "      <td>False</td>\n",
       "      <td>False</td>\n",
       "      <td>True</td>\n",
       "      <td>False</td>\n",
       "      <td>...</td>\n",
       "      <td>True</td>\n",
       "      <td>False</td>\n",
       "      <td>False</td>\n",
       "      <td>True</td>\n",
       "      <td>False</td>\n",
       "      <td>False</td>\n",
       "      <td>False</td>\n",
       "      <td>False</td>\n",
       "      <td>False</td>\n",
       "      <td>True</td>\n",
       "    </tr>\n",
       "    <tr>\n",
       "      <th>10907</th>\n",
       "      <td>True</td>\n",
       "      <td>False</td>\n",
       "      <td>False</td>\n",
       "      <td>False</td>\n",
       "      <td>False</td>\n",
       "      <td>True</td>\n",
       "      <td>False</td>\n",
       "      <td>False</td>\n",
       "      <td>True</td>\n",
       "      <td>False</td>\n",
       "      <td>...</td>\n",
       "      <td>False</td>\n",
       "      <td>False</td>\n",
       "      <td>True</td>\n",
       "      <td>False</td>\n",
       "      <td>False</td>\n",
       "      <td>True</td>\n",
       "      <td>False</td>\n",
       "      <td>False</td>\n",
       "      <td>False</td>\n",
       "      <td>True</td>\n",
       "    </tr>\n",
       "    <tr>\n",
       "      <th>10908</th>\n",
       "      <td>False</td>\n",
       "      <td>True</td>\n",
       "      <td>False</td>\n",
       "      <td>False</td>\n",
       "      <td>False</td>\n",
       "      <td>True</td>\n",
       "      <td>False</td>\n",
       "      <td>False</td>\n",
       "      <td>True</td>\n",
       "      <td>False</td>\n",
       "      <td>...</td>\n",
       "      <td>True</td>\n",
       "      <td>False</td>\n",
       "      <td>False</td>\n",
       "      <td>False</td>\n",
       "      <td>False</td>\n",
       "      <td>False</td>\n",
       "      <td>True</td>\n",
       "      <td>False</td>\n",
       "      <td>False</td>\n",
       "      <td>True</td>\n",
       "    </tr>\n",
       "    <tr>\n",
       "      <th>10909</th>\n",
       "      <td>False</td>\n",
       "      <td>True</td>\n",
       "      <td>False</td>\n",
       "      <td>False</td>\n",
       "      <td>False</td>\n",
       "      <td>True</td>\n",
       "      <td>False</td>\n",
       "      <td>False</td>\n",
       "      <td>False</td>\n",
       "      <td>False</td>\n",
       "      <td>...</td>\n",
       "      <td>False</td>\n",
       "      <td>False</td>\n",
       "      <td>True</td>\n",
       "      <td>False</td>\n",
       "      <td>False</td>\n",
       "      <td>False</td>\n",
       "      <td>True</td>\n",
       "      <td>False</td>\n",
       "      <td>False</td>\n",
       "      <td>True</td>\n",
       "    </tr>\n",
       "  </tbody>\n",
       "</table>\n",
       "<p>10910 rows × 47 columns</p>\n",
       "</div>"
      ],
      "text/plain": [
       "       state_Arizona  state_California  state_Nevada  state_Oregon  \\\n",
       "0               True             False         False         False   \n",
       "1              False              True         False         False   \n",
       "2              False             False         False         False   \n",
       "3              False             False         False          True   \n",
       "4              False             False         False          True   \n",
       "...              ...               ...           ...           ...   \n",
       "10905          False             False          True         False   \n",
       "10906          False             False         False          True   \n",
       "10907           True             False         False         False   \n",
       "10908          False              True         False         False   \n",
       "10909          False              True         False         False   \n",
       "\n",
       "       state_Washington  response_No  response_Yes  employmentstatus_Disabled  \\\n",
       "0                 False         True         False                      False   \n",
       "1                 False         True         False                      False   \n",
       "2                  True         True         False                      False   \n",
       "3                 False        False          True                      False   \n",
       "4                 False         True         False                      False   \n",
       "...                 ...          ...           ...                        ...   \n",
       "10905             False         True         False                      False   \n",
       "10906             False         True         False                      False   \n",
       "10907             False         True         False                      False   \n",
       "10908             False         True         False                      False   \n",
       "10909             False         True         False                      False   \n",
       "\n",
       "       employmentstatus_Employed  employmentstatus_Medical Leave  ...  \\\n",
       "0                           True                           False  ...   \n",
       "1                          False                           False  ...   \n",
       "2                           True                           False  ...   \n",
       "3                           True                           False  ...   \n",
       "4                          False                            True  ...   \n",
       "...                          ...                             ...  ...   \n",
       "10905                      False                           False  ...   \n",
       "10906                       True                           False  ...   \n",
       "10907                       True                           False  ...   \n",
       "10908                       True                           False  ...   \n",
       "10909                      False                           False  ...   \n",
       "\n",
       "       sales_channel_Branch  sales_channel_Call Center  sales_channel_Web  \\\n",
       "0                     False                      False              False   \n",
       "1                     False                       True              False   \n",
       "2                     False                       True              False   \n",
       "3                      True                      False              False   \n",
       "4                      True                      False              False   \n",
       "...                     ...                        ...                ...   \n",
       "10905                 False                      False               True   \n",
       "10906                  True                      False              False   \n",
       "10907                 False                      False               True   \n",
       "10908                  True                      False              False   \n",
       "10909                 False                      False               True   \n",
       "\n",
       "       vehicle_class_Four-Door Car  vehicle_class_Luxury Car  \\\n",
       "0                             True                     False   \n",
       "1                             True                     False   \n",
       "2                            False                     False   \n",
       "3                             True                     False   \n",
       "4                             True                     False   \n",
       "...                            ...                       ...   \n",
       "10905                        False                      True   \n",
       "10906                         True                     False   \n",
       "10907                        False                     False   \n",
       "10908                        False                     False   \n",
       "10909                        False                     False   \n",
       "\n",
       "       vehicle_class_Luxury SUV  vehicle_class_SUV  vehicle_class_Sports Car  \\\n",
       "0                         False              False                     False   \n",
       "1                         False              False                     False   \n",
       "2                         False               True                     False   \n",
       "3                         False              False                     False   \n",
       "4                         False              False                     False   \n",
       "...                         ...                ...                       ...   \n",
       "10905                     False              False                     False   \n",
       "10906                     False              False                     False   \n",
       "10907                      True              False                     False   \n",
       "10908                     False               True                     False   \n",
       "10909                     False               True                     False   \n",
       "\n",
       "       vehicle_class_Two-Door Car  vehicle_type_A  \n",
       "0                           False            True  \n",
       "1                           False            True  \n",
       "2                           False            True  \n",
       "3                           False            True  \n",
       "4                           False            True  \n",
       "...                           ...             ...  \n",
       "10905                       False            True  \n",
       "10906                       False            True  \n",
       "10907                       False            True  \n",
       "10908                       False            True  \n",
       "10909                       False            True  \n",
       "\n",
       "[10910 rows x 47 columns]"
      ]
     },
     "execution_count": 121,
     "metadata": {},
     "output_type": "execute_result"
    }
   ],
   "source": [
    "nominals"
   ]
  },
  {
   "cell_type": "markdown",
   "metadata": {},
   "source": [
    "### Numericals"
   ]
  },
  {
   "cell_type": "code",
   "execution_count": 122,
   "metadata": {},
   "outputs": [
    {
     "data": {
      "text/plain": [
       "Index(['customer_lifetime_value', 'income', 'monthly_premium_auto',\n",
       "       'months_since_last_claim', 'months_since_policy_inception',\n",
       "       'number_of_open_complaints', 'number_of_policies', 'total_claim_amount',\n",
       "       'month'],\n",
       "      dtype='object')"
      ]
     },
     "execution_count": 122,
     "metadata": {},
     "output_type": "execute_result"
    }
   ],
   "source": [
    "numericals = ca_df.select_dtypes(include='number')\n",
    "numericals.columns"
   ]
  },
  {
   "cell_type": "code",
   "execution_count": 123,
   "metadata": {},
   "outputs": [],
   "source": [
    "#dropping nas\n",
    "numericals = numericals.dropna()"
   ]
  },
  {
   "cell_type": "code",
   "execution_count": 124,
   "metadata": {},
   "outputs": [
    {
     "data": {
      "text/plain": [
       "Index(['customer_lifetime_value', 'income', 'monthly_premium_auto',\n",
       "       'months_since_last_claim', 'months_since_policy_inception',\n",
       "       'number_of_open_complaints', 'number_of_policies', 'total_claim_amount',\n",
       "       'month'],\n",
       "      dtype='object')"
      ]
     },
     "execution_count": 124,
     "metadata": {},
     "output_type": "execute_result"
    }
   ],
   "source": [
    "numericals.columns"
   ]
  },
  {
   "cell_type": "code",
   "execution_count": 125,
   "metadata": {},
   "outputs": [],
   "source": [
    "#dropping duplicates\n",
    "numericals = numericals.drop_duplicates()"
   ]
  },
  {
   "cell_type": "code",
   "execution_count": 126,
   "metadata": {},
   "outputs": [
    {
     "data": {
      "text/plain": [
       "Index(['customer_lifetime_value', 'income', 'monthly_premium_auto',\n",
       "       'months_since_last_claim', 'months_since_policy_inception',\n",
       "       'number_of_open_complaints', 'number_of_policies', 'total_claim_amount',\n",
       "       'month'],\n",
       "      dtype='object')"
      ]
     },
     "execution_count": 126,
     "metadata": {},
     "output_type": "execute_result"
    }
   ],
   "source": [
    "numericals.columns"
   ]
  },
  {
   "cell_type": "markdown",
   "metadata": {},
   "source": [
    "### CONCAT"
   ]
  },
  {
   "cell_type": "code",
   "execution_count": 127,
   "metadata": {},
   "outputs": [],
   "source": [
    "final_df = pd.concat([numericals,ordinals,nominals], axis=1)"
   ]
  },
  {
   "cell_type": "code",
   "execution_count": 128,
   "metadata": {},
   "outputs": [
    {
     "data": {
      "text/plain": [
       "Index(['customer_lifetime_value', 'income', 'monthly_premium_auto',\n",
       "       'months_since_last_claim', 'months_since_policy_inception',\n",
       "       'number_of_open_complaints', 'number_of_policies', 'total_claim_amount',\n",
       "       'month', 'coverage', 'education', 'vehicle_size', 'state_Arizona',\n",
       "       'state_California', 'state_Nevada', 'state_Oregon', 'state_Washington',\n",
       "       'response_No', 'response_Yes', 'employmentstatus_Disabled',\n",
       "       'employmentstatus_Employed', 'employmentstatus_Medical Leave',\n",
       "       'employmentstatus_Retired', 'employmentstatus_Unemployed', 'gender_F',\n",
       "       'gender_M', 'location_code_Rural', 'location_code_Suburban',\n",
       "       'location_code_Urban', 'marital_status_Divorced',\n",
       "       'marital_status_Married', 'marital_status_Single',\n",
       "       'policy_type_Corporate Auto', 'policy_type_Personal Auto',\n",
       "       'policy_type_Special Auto', 'policy_Corporate L1',\n",
       "       'policy_Corporate L2', 'policy_Corporate L3', 'policy_Personal L1',\n",
       "       'policy_Personal L2', 'policy_Personal L3', 'policy_Special L1',\n",
       "       'policy_Special L2', 'policy_Special L3', 'renew_offer_type_Offer1',\n",
       "       'renew_offer_type_Offer2', 'renew_offer_type_Offer3',\n",
       "       'renew_offer_type_Offer4', 'sales_channel_Agent',\n",
       "       'sales_channel_Branch', 'sales_channel_Call Center',\n",
       "       'sales_channel_Web', 'vehicle_class_Four-Door Car',\n",
       "       'vehicle_class_Luxury Car', 'vehicle_class_Luxury SUV',\n",
       "       'vehicle_class_SUV', 'vehicle_class_Sports Car',\n",
       "       'vehicle_class_Two-Door Car', 'vehicle_type_A'],\n",
       "      dtype='object')"
      ]
     },
     "execution_count": 128,
     "metadata": {},
     "output_type": "execute_result"
    }
   ],
   "source": [
    "final_df.columns"
   ]
  },
  {
   "cell_type": "markdown",
   "metadata": {},
   "source": [
    "### dropping nans"
   ]
  },
  {
   "cell_type": "code",
   "execution_count": 129,
   "metadata": {},
   "outputs": [],
   "source": [
    "final_df.dropna(inplace=True)"
   ]
  },
  {
   "cell_type": "markdown",
   "metadata": {},
   "source": [
    "### Lab instructions : \n",
    "\n",
    "1) Compute R2 for the first model iteration + feature importance plot\n",
    "2) Run the 2nd iteration of the model, adding the categorical data"
   ]
  },
  {
   "cell_type": "markdown",
   "metadata": {},
   "source": [
    "### X-y Split"
   ]
  },
  {
   "cell_type": "code",
   "execution_count": 130,
   "metadata": {},
   "outputs": [],
   "source": [
    "X = final_df[['customer_lifetime_value', 'income', 'monthly_premium_auto',\n",
    "       'months_since_last_claim', 'months_since_policy_inception',\n",
    "       'number_of_open_complaints', 'number_of_policies',\n",
    "       'month', 'coverage', 'education', 'vehicle_size', 'state_Arizona',\n",
    "       'state_California', 'state_Nevada', 'state_Oregon', 'state_Washington',\n",
    "       'response_No', 'response_Yes', 'employmentstatus_Disabled',\n",
    "       'employmentstatus_Employed', 'employmentstatus_Medical Leave',\n",
    "       'employmentstatus_Retired', 'employmentstatus_Unemployed', 'gender_F',\n",
    "       'gender_M', 'location_code_Rural', 'location_code_Suburban',\n",
    "       'location_code_Urban', 'marital_status_Divorced',\n",
    "       'marital_status_Married', 'marital_status_Single',\n",
    "       'policy_type_Corporate Auto', 'policy_type_Personal Auto',\n",
    "       'policy_type_Special Auto', 'policy_Corporate L1',\n",
    "       'policy_Corporate L2', 'policy_Corporate L3', 'policy_Personal L1',\n",
    "       'policy_Personal L2', 'policy_Personal L3', 'policy_Special L1',\n",
    "       'policy_Special L2', 'policy_Special L3', 'renew_offer_type_Offer1',\n",
    "       'renew_offer_type_Offer2', 'renew_offer_type_Offer3',\n",
    "       'renew_offer_type_Offer4', 'sales_channel_Agent',\n",
    "       'sales_channel_Branch', 'sales_channel_Call Center',\n",
    "       'sales_channel_Web', 'vehicle_class_Four-Door Car',\n",
    "       'vehicle_class_Luxury Car', 'vehicle_class_Luxury SUV',\n",
    "       'vehicle_class_SUV', 'vehicle_class_Sports Car',\n",
    "       'vehicle_class_Two-Door Car', 'vehicle_type_A']]\n",
    "y = final_df[[\"total_claim_amount\"]]"
   ]
  },
  {
   "cell_type": "markdown",
   "metadata": {},
   "source": [
    "### Train test split"
   ]
  },
  {
   "cell_type": "code",
   "execution_count": 131,
   "metadata": {},
   "outputs": [],
   "source": [
    "from sklearn.model_selection import train_test_split"
   ]
  },
  {
   "cell_type": "code",
   "execution_count": 132,
   "metadata": {},
   "outputs": [],
   "source": [
    "X_train, X_test, y_train, y_test = train_test_split(X,y, random_state = 42)"
   ]
  },
  {
   "cell_type": "code",
   "execution_count": 133,
   "metadata": {},
   "outputs": [],
   "source": [
    "#Standardize the data (after the data split!).\n",
    "\n",
    "from sklearn.preprocessing import MinMaxScaler, StandardScaler, PowerTransformer\n",
    "\n",
    "scaler = MinMaxScaler()\n",
    "\n",
    "scaler.fit(X_train)\n",
    "X_train_scaled = scaler.transform(X_train)"
   ]
  },
  {
   "cell_type": "code",
   "execution_count": 134,
   "metadata": {},
   "outputs": [],
   "source": [
    "X_test_scaled = scaler.transform(X_test)"
   ]
  },
  {
   "cell_type": "code",
   "execution_count": 135,
   "metadata": {},
   "outputs": [
    {
     "data": {
      "text/plain": [
       "array([[<Axes: title={'center': 'total_claim_amount'}>]], dtype=object)"
      ]
     },
     "execution_count": 135,
     "metadata": {},
     "output_type": "execute_result"
    },
    {
     "data": {
      "image/png": "[encoded data removed]",
      "text/plain": [
       "<Figure size 640x480 with 1 Axes>"
      ]
     },
     "metadata": {},
     "output_type": "display_data"
    }
   ],
   "source": [
    "y_train.hist()"
   ]
  },
  {
   "cell_type": "code",
   "execution_count": 136,
   "metadata": {},
   "outputs": [],
   "source": [
    "pt = PowerTransformer()"
   ]
  },
  {
   "cell_type": "code",
   "execution_count": 137,
   "metadata": {},
   "outputs": [],
   "source": [
    "pt.fit(y_train)\n",
    "y_train = pt.transform(y_train)"
   ]
  },
  {
   "cell_type": "code",
   "execution_count": 138,
   "metadata": {},
   "outputs": [],
   "source": [
    "y_test = pt.transform(y_test)"
   ]
  },
  {
   "cell_type": "markdown",
   "metadata": {},
   "source": [
    "### Model Training"
   ]
  },
  {
   "cell_type": "code",
   "execution_count": 139,
   "metadata": {},
   "outputs": [],
   "source": [
    "from sklearn.linear_model import LinearRegression"
   ]
  },
  {
   "cell_type": "code",
   "execution_count": 140,
   "metadata": {},
   "outputs": [],
   "source": [
    "lm = LinearRegression()\n",
    "model = lm.fit(X_train,y_train)"
   ]
  },
  {
   "cell_type": "code",
   "execution_count": 141,
   "metadata": {},
   "outputs": [
    {
     "data": {
      "text/plain": [
       "array([[-1.16989737e-07, -1.00934903e-06,  1.37862140e-02,\n",
       "         6.82294758e-04, -5.25888381e-05, -3.24233951e-03,\n",
       "         1.86804624e-03,  6.05339946e-03,  2.97448470e-02,\n",
       "        -1.67529599e-02, -1.60807537e-02,  1.17399943e-03,\n",
       "         1.24317910e-02,  2.98140784e-03, -2.11509047e-02,\n",
       "         4.56370641e-03,  3.00714293e-02, -3.00714293e-02,\n",
       "        -4.30810044e-02, -2.66169291e-02,  4.63632030e-03,\n",
       "        -7.45086168e-02,  1.39570230e-01, -1.89566413e-02,\n",
       "         1.89566413e-02, -9.70415566e-01,  7.61111866e-01,\n",
       "         2.09303700e-01, -5.78054733e-02, -7.34854325e-02,\n",
       "         1.31290906e-01, -2.39102324e-02, -1.34452999e-02,\n",
       "         3.73555323e-02,  4.83112436e-03, -3.02888762e-02,\n",
       "         1.54751943e-03,  5.54406561e-03, -1.24887576e-02,\n",
       "        -6.50060800e-03,  1.05766093e-01, -6.66359619e-03,\n",
       "        -6.17469649e-02, -1.25776960e-02,  1.56177598e-02,\n",
       "        -5.81247868e-03,  2.77241493e-03, -2.45179226e-03,\n",
       "        -1.61052671e-04,  8.07131446e-03, -5.45846953e-03,\n",
       "        -2.62228515e-02,  6.21669930e-02, -9.29630554e-02,\n",
       "         3.69347972e-02,  4.12150618e-02, -2.11309451e-02,\n",
       "         0.00000000e+00]])"
      ]
     },
     "execution_count": 141,
     "metadata": {},
     "output_type": "execute_result"
    }
   ],
   "source": [
    "model.coef_"
   ]
  },
  {
   "cell_type": "code",
   "execution_count": 142,
   "metadata": {},
   "outputs": [
    {
     "data": {
      "text/plain": [
       "array([-1.55537405])"
      ]
     },
     "execution_count": 142,
     "metadata": {},
     "output_type": "execute_result"
    }
   ],
   "source": [
    "model.intercept_"
   ]
  },
  {
   "cell_type": "markdown",
   "metadata": {},
   "source": [
    "### Predict total claim amount"
   ]
  },
  {
   "cell_type": "code",
   "execution_count": 143,
   "metadata": {},
   "outputs": [],
   "source": [
    "random_claim = pd.DataFrame(X_test).sample()"
   ]
  },
  {
   "cell_type": "code",
   "execution_count": 144,
   "metadata": {},
   "outputs": [
    {
     "data": {
      "text/html": [
       "<div>\n",
       "<style scoped>\n",
       "    .dataframe tbody tr th:only-of-type {\n",
       "        vertical-align: middle;\n",
       "    }\n",
       "\n",
       "    .dataframe tbody tr th {\n",
       "        vertical-align: top;\n",
       "    }\n",
       "\n",
       "    .dataframe thead th {\n",
       "        text-align: right;\n",
       "    }\n",
       "</style>\n",
       "<table border=\"1\" class=\"dataframe\">\n",
       "  <thead>\n",
       "    <tr style=\"text-align: right;\">\n",
       "      <th></th>\n",
       "      <th>customer_lifetime_value</th>\n",
       "      <th>income</th>\n",
       "      <th>monthly_premium_auto</th>\n",
       "      <th>months_since_last_claim</th>\n",
       "      <th>months_since_policy_inception</th>\n",
       "      <th>number_of_open_complaints</th>\n",
       "      <th>number_of_policies</th>\n",
       "      <th>month</th>\n",
       "      <th>coverage</th>\n",
       "      <th>education</th>\n",
       "      <th>...</th>\n",
       "      <th>sales_channel_Branch</th>\n",
       "      <th>sales_channel_Call Center</th>\n",
       "      <th>sales_channel_Web</th>\n",
       "      <th>vehicle_class_Four-Door Car</th>\n",
       "      <th>vehicle_class_Luxury Car</th>\n",
       "      <th>vehicle_class_Luxury SUV</th>\n",
       "      <th>vehicle_class_SUV</th>\n",
       "      <th>vehicle_class_Sports Car</th>\n",
       "      <th>vehicle_class_Two-Door Car</th>\n",
       "      <th>vehicle_type_A</th>\n",
       "    </tr>\n",
       "  </thead>\n",
       "  <tbody>\n",
       "    <tr>\n",
       "      <th>8927</th>\n",
       "      <td>11435.23124</td>\n",
       "      <td>12470.0</td>\n",
       "      <td>103.0</td>\n",
       "      <td>30.0</td>\n",
       "      <td>52.0</td>\n",
       "      <td>1.0</td>\n",
       "      <td>2.0</td>\n",
       "      <td>1.0</td>\n",
       "      <td>0.0</td>\n",
       "      <td>1.0</td>\n",
       "      <td>...</td>\n",
       "      <td>False</td>\n",
       "      <td>False</td>\n",
       "      <td>False</td>\n",
       "      <td>False</td>\n",
       "      <td>False</td>\n",
       "      <td>False</td>\n",
       "      <td>True</td>\n",
       "      <td>False</td>\n",
       "      <td>False</td>\n",
       "      <td>True</td>\n",
       "    </tr>\n",
       "  </tbody>\n",
       "</table>\n",
       "<p>1 rows × 58 columns</p>\n",
       "</div>"
      ],
      "text/plain": [
       "      customer_lifetime_value   income  monthly_premium_auto  \\\n",
       "8927              11435.23124  12470.0                 103.0   \n",
       "\n",
       "      months_since_last_claim  months_since_policy_inception  \\\n",
       "8927                     30.0                           52.0   \n",
       "\n",
       "      number_of_open_complaints  number_of_policies  month  coverage  \\\n",
       "8927                        1.0                 2.0    1.0       0.0   \n",
       "\n",
       "      education  ...  sales_channel_Branch  sales_channel_Call Center  \\\n",
       "8927        1.0  ...                 False                      False   \n",
       "\n",
       "      sales_channel_Web  vehicle_class_Four-Door Car  \\\n",
       "8927              False                        False   \n",
       "\n",
       "      vehicle_class_Luxury Car  vehicle_class_Luxury SUV  vehicle_class_SUV  \\\n",
       "8927                     False                     False               True   \n",
       "\n",
       "      vehicle_class_Sports Car  vehicle_class_Two-Door Car  vehicle_type_A  \n",
       "8927                     False                       False            True  \n",
       "\n",
       "[1 rows x 58 columns]"
      ]
     },
     "execution_count": 144,
     "metadata": {},
     "output_type": "execute_result"
    }
   ],
   "source": [
    "random_claim"
   ]
  },
  {
   "cell_type": "code",
   "execution_count": 145,
   "metadata": {},
   "outputs": [
    {
     "data": {
      "text/plain": [
       "array([[0.51304748]])"
      ]
     },
     "execution_count": 145,
     "metadata": {},
     "output_type": "execute_result"
    }
   ],
   "source": [
    "model.predict(random_claim)"
   ]
  },
  {
   "cell_type": "code",
   "execution_count": 146,
   "metadata": {},
   "outputs": [
    {
     "data": {
      "text/plain": [
       "array([[536.15132595]])"
      ]
     },
     "execution_count": 146,
     "metadata": {},
     "output_type": "execute_result"
    }
   ],
   "source": [
    "pt.inverse_transform(model.predict(random_claim))"
   ]
  },
  {
   "cell_type": "markdown",
   "metadata": {},
   "source": [
    "### Create predictions for test set"
   ]
  },
  {
   "cell_type": "code",
   "execution_count": 147,
   "metadata": {},
   "outputs": [],
   "source": [
    "y_pred = model.predict(X_test)"
   ]
  },
  {
   "cell_type": "code",
   "execution_count": 148,
   "metadata": {},
   "outputs": [],
   "source": [
    "# inverse transforming predictions"
   ]
  },
  {
   "cell_type": "code",
   "execution_count": 149,
   "metadata": {},
   "outputs": [
    {
     "data": {
      "text/plain": [
       "array([[498.81044096],\n",
       "       [421.72788308],\n",
       "       [383.05960659],\n",
       "       ...,\n",
       "       [227.25378861],\n",
       "       [397.30180327],\n",
       "       [ 59.60148751]])"
      ]
     },
     "execution_count": 149,
     "metadata": {},
     "output_type": "execute_result"
    }
   ],
   "source": [
    "pt.inverse_transform(y_pred)"
   ]
  },
  {
   "cell_type": "code",
   "execution_count": 150,
   "metadata": {},
   "outputs": [],
   "source": [
    "y_pred = pd.DataFrame(y_pred)"
   ]
  },
  {
   "cell_type": "code",
   "execution_count": 151,
   "metadata": {},
   "outputs": [],
   "source": [
    "y_test = pd.DataFrame(y_test)"
   ]
  },
  {
   "cell_type": "code",
   "execution_count": 152,
   "metadata": {},
   "outputs": [],
   "source": [
    "y_test = y_test.reset_index(drop=True)"
   ]
  },
  {
   "cell_type": "code",
   "execution_count": 153,
   "metadata": {},
   "outputs": [],
   "source": [
    "residuals_df = pd.concat([y_test,y_pred],axis=1)"
   ]
  },
  {
   "cell_type": "code",
   "execution_count": 154,
   "metadata": {},
   "outputs": [],
   "source": [
    "residuals_df.columns = [\"y_test\",\"y_pred\"]"
   ]
  },
  {
   "cell_type": "code",
   "execution_count": 155,
   "metadata": {},
   "outputs": [
    {
     "data": {
      "text/html": [
       "<div>\n",
       "<style scoped>\n",
       "    .dataframe tbody tr th:only-of-type {\n",
       "        vertical-align: middle;\n",
       "    }\n",
       "\n",
       "    .dataframe tbody tr th {\n",
       "        vertical-align: top;\n",
       "    }\n",
       "\n",
       "    .dataframe thead th {\n",
       "        text-align: right;\n",
       "    }\n",
       "</style>\n",
       "<table border=\"1\" class=\"dataframe\">\n",
       "  <thead>\n",
       "    <tr style=\"text-align: right;\">\n",
       "      <th></th>\n",
       "      <th>y_test</th>\n",
       "      <th>y_pred</th>\n",
       "    </tr>\n",
       "  </thead>\n",
       "  <tbody>\n",
       "    <tr>\n",
       "      <th>0</th>\n",
       "      <td>0.165285</td>\n",
       "      <td>0.398591</td>\n",
       "    </tr>\n",
       "    <tr>\n",
       "      <th>1</th>\n",
       "      <td>0.014128</td>\n",
       "      <td>0.146611</td>\n",
       "    </tr>\n",
       "    <tr>\n",
       "      <th>2</th>\n",
       "      <td>-0.146564</td>\n",
       "      <td>0.010738</td>\n",
       "    </tr>\n",
       "    <tr>\n",
       "      <th>3</th>\n",
       "      <td>0.142178</td>\n",
       "      <td>0.426614</td>\n",
       "    </tr>\n",
       "    <tr>\n",
       "      <th>4</th>\n",
       "      <td>0.142038</td>\n",
       "      <td>0.205705</td>\n",
       "    </tr>\n",
       "    <tr>\n",
       "      <th>...</th>\n",
       "      <td>...</td>\n",
       "      <td>...</td>\n",
       "    </tr>\n",
       "    <tr>\n",
       "      <th>2147</th>\n",
       "      <td>0.864817</td>\n",
       "      <td>0.696157</td>\n",
       "    </tr>\n",
       "    <tr>\n",
       "      <th>2148</th>\n",
       "      <td>0.947189</td>\n",
       "      <td>0.762369</td>\n",
       "    </tr>\n",
       "    <tr>\n",
       "      <th>2149</th>\n",
       "      <td>-0.402655</td>\n",
       "      <td>-0.631041</td>\n",
       "    </tr>\n",
       "    <tr>\n",
       "      <th>2150</th>\n",
       "      <td>0.235706</td>\n",
       "      <td>0.061612</td>\n",
       "    </tr>\n",
       "    <tr>\n",
       "      <th>2151</th>\n",
       "      <td>-0.941303</td>\n",
       "      <td>-1.718250</td>\n",
       "    </tr>\n",
       "  </tbody>\n",
       "</table>\n",
       "<p>2152 rows × 2 columns</p>\n",
       "</div>"
      ],
      "text/plain": [
       "        y_test    y_pred\n",
       "0     0.165285  0.398591\n",
       "1     0.014128  0.146611\n",
       "2    -0.146564  0.010738\n",
       "3     0.142178  0.426614\n",
       "4     0.142038  0.205705\n",
       "...        ...       ...\n",
       "2147  0.864817  0.696157\n",
       "2148  0.947189  0.762369\n",
       "2149 -0.402655 -0.631041\n",
       "2150  0.235706  0.061612\n",
       "2151 -0.941303 -1.718250\n",
       "\n",
       "[2152 rows x 2 columns]"
      ]
     },
     "execution_count": 155,
     "metadata": {},
     "output_type": "execute_result"
    }
   ],
   "source": [
    "residuals_df"
   ]
  },
  {
   "cell_type": "code",
   "execution_count": 156,
   "metadata": {},
   "outputs": [],
   "source": [
    "residuals_df[\"residuals\"] = residuals_df[\"y_test\"]- residuals_df[\"y_pred\"]"
   ]
  },
  {
   "cell_type": "code",
   "execution_count": 157,
   "metadata": {},
   "outputs": [
    {
     "data": {
      "text/html": [
       "<div>\n",
       "<style scoped>\n",
       "    .dataframe tbody tr th:only-of-type {\n",
       "        vertical-align: middle;\n",
       "    }\n",
       "\n",
       "    .dataframe tbody tr th {\n",
       "        vertical-align: top;\n",
       "    }\n",
       "\n",
       "    .dataframe thead th {\n",
       "        text-align: right;\n",
       "    }\n",
       "</style>\n",
       "<table border=\"1\" class=\"dataframe\">\n",
       "  <thead>\n",
       "    <tr style=\"text-align: right;\">\n",
       "      <th></th>\n",
       "      <th>y_test</th>\n",
       "      <th>y_pred</th>\n",
       "      <th>residuals</th>\n",
       "    </tr>\n",
       "  </thead>\n",
       "  <tbody>\n",
       "    <tr>\n",
       "      <th>0</th>\n",
       "      <td>0.165285</td>\n",
       "      <td>0.398591</td>\n",
       "      <td>-0.233307</td>\n",
       "    </tr>\n",
       "    <tr>\n",
       "      <th>1</th>\n",
       "      <td>0.014128</td>\n",
       "      <td>0.146611</td>\n",
       "      <td>-0.132483</td>\n",
       "    </tr>\n",
       "    <tr>\n",
       "      <th>2</th>\n",
       "      <td>-0.146564</td>\n",
       "      <td>0.010738</td>\n",
       "      <td>-0.157301</td>\n",
       "    </tr>\n",
       "    <tr>\n",
       "      <th>3</th>\n",
       "      <td>0.142178</td>\n",
       "      <td>0.426614</td>\n",
       "      <td>-0.284436</td>\n",
       "    </tr>\n",
       "    <tr>\n",
       "      <th>4</th>\n",
       "      <td>0.142038</td>\n",
       "      <td>0.205705</td>\n",
       "      <td>-0.063667</td>\n",
       "    </tr>\n",
       "    <tr>\n",
       "      <th>...</th>\n",
       "      <td>...</td>\n",
       "      <td>...</td>\n",
       "      <td>...</td>\n",
       "    </tr>\n",
       "    <tr>\n",
       "      <th>2147</th>\n",
       "      <td>0.864817</td>\n",
       "      <td>0.696157</td>\n",
       "      <td>0.168660</td>\n",
       "    </tr>\n",
       "    <tr>\n",
       "      <th>2148</th>\n",
       "      <td>0.947189</td>\n",
       "      <td>0.762369</td>\n",
       "      <td>0.184820</td>\n",
       "    </tr>\n",
       "    <tr>\n",
       "      <th>2149</th>\n",
       "      <td>-0.402655</td>\n",
       "      <td>-0.631041</td>\n",
       "      <td>0.228385</td>\n",
       "    </tr>\n",
       "    <tr>\n",
       "      <th>2150</th>\n",
       "      <td>0.235706</td>\n",
       "      <td>0.061612</td>\n",
       "      <td>0.174094</td>\n",
       "    </tr>\n",
       "    <tr>\n",
       "      <th>2151</th>\n",
       "      <td>-0.941303</td>\n",
       "      <td>-1.718250</td>\n",
       "      <td>0.776946</td>\n",
       "    </tr>\n",
       "  </tbody>\n",
       "</table>\n",
       "<p>2152 rows × 3 columns</p>\n",
       "</div>"
      ],
      "text/plain": [
       "        y_test    y_pred  residuals\n",
       "0     0.165285  0.398591  -0.233307\n",
       "1     0.014128  0.146611  -0.132483\n",
       "2    -0.146564  0.010738  -0.157301\n",
       "3     0.142178  0.426614  -0.284436\n",
       "4     0.142038  0.205705  -0.063667\n",
       "...        ...       ...        ...\n",
       "2147  0.864817  0.696157   0.168660\n",
       "2148  0.947189  0.762369   0.184820\n",
       "2149 -0.402655 -0.631041   0.228385\n",
       "2150  0.235706  0.061612   0.174094\n",
       "2151 -0.941303 -1.718250   0.776946\n",
       "\n",
       "[2152 rows x 3 columns]"
      ]
     },
     "execution_count": 157,
     "metadata": {},
     "output_type": "execute_result"
    }
   ],
   "source": [
    "residuals_df"
   ]
  },
  {
   "cell_type": "markdown",
   "metadata": {},
   "source": [
    "### Calculating metrics"
   ]
  },
  {
   "cell_type": "code",
   "execution_count": 158,
   "metadata": {},
   "outputs": [],
   "source": [
    "mean_error = residuals_df[\"residuals\"].mean()"
   ]
  },
  {
   "cell_type": "code",
   "execution_count": 159,
   "metadata": {},
   "outputs": [
    {
     "data": {
      "text/plain": [
       "0.00035385066452505294"
      ]
     },
     "execution_count": 159,
     "metadata": {},
     "output_type": "execute_result"
    }
   ],
   "source": [
    "mean_error"
   ]
  },
  {
   "cell_type": "code",
   "execution_count": 160,
   "metadata": {},
   "outputs": [],
   "source": [
    "from sklearn.metrics import mean_squared_error as mse , mean_absolute_error as mae"
   ]
  },
  {
   "cell_type": "code",
   "execution_count": 161,
   "metadata": {},
   "outputs": [
    {
     "data": {
      "text/plain": [
       "0.17249304864515627"
      ]
     },
     "execution_count": 161,
     "metadata": {},
     "output_type": "execute_result"
    }
   ],
   "source": [
    "mse(y_test,y_pred)"
   ]
  },
  {
   "cell_type": "code",
   "execution_count": 162,
   "metadata": {},
   "outputs": [
    {
     "data": {
      "text/plain": [
       "0.3152223081419686"
      ]
     },
     "execution_count": 162,
     "metadata": {},
     "output_type": "execute_result"
    }
   ],
   "source": [
    "mae(y_test,y_pred)"
   ]
  },
  {
   "cell_type": "code",
   "execution_count": 163,
   "metadata": {},
   "outputs": [
    {
     "data": {
      "text/plain": [
       "0.4153228246137651"
      ]
     },
     "execution_count": 163,
     "metadata": {},
     "output_type": "execute_result"
    }
   ],
   "source": [
    "rmse = mse(y_test,y_pred, squared = False)\n",
    "rmse"
   ]
  },
  {
   "cell_type": "code",
   "execution_count": 164,
   "metadata": {},
   "outputs": [],
   "source": [
    "from sklearn.metrics import r2_score"
   ]
  },
  {
   "cell_type": "markdown",
   "metadata": {},
   "source": [
    "### Computing R2_score for test_set"
   ]
  },
  {
   "cell_type": "code",
   "execution_count": 165,
   "metadata": {},
   "outputs": [
    {
     "data": {
      "text/plain": [
       "0.83"
      ]
     },
     "execution_count": 165,
     "metadata": {},
     "output_type": "execute_result"
    }
   ],
   "source": [
    "round(r2_score(y_test, y_pred),2)"
   ]
  },
  {
   "cell_type": "markdown",
   "metadata": {},
   "source": [
    "### Computing R2_score_for_train_set"
   ]
  },
  {
   "cell_type": "code",
   "execution_count": 166,
   "metadata": {},
   "outputs": [],
   "source": [
    "y_pred_train = pd.DataFrame(model.predict(X_train))"
   ]
  },
  {
   "cell_type": "code",
   "execution_count": 167,
   "metadata": {},
   "outputs": [
    {
     "data": {
      "text/plain": [
       "0.8356261254454007"
      ]
     },
     "execution_count": 167,
     "metadata": {},
     "output_type": "execute_result"
    }
   ],
   "source": [
    "r2_score(y_train,y_pred_train)"
   ]
  },
  {
   "cell_type": "markdown",
   "metadata": {},
   "source": [
    "### Graph"
   ]
  },
  {
   "cell_type": "code",
   "execution_count": 168,
   "metadata": {},
   "outputs": [],
   "source": [
    "feature_names = list(X_train.columns)"
   ]
  },
  {
   "cell_type": "code",
   "execution_count": 169,
   "metadata": {},
   "outputs": [],
   "source": [
    "coefficients = model.coef_"
   ]
  },
  {
   "cell_type": "code",
   "execution_count": 170,
   "metadata": {},
   "outputs": [],
   "source": [
    "coefficients = [i for i in coefficients[0]]"
   ]
  },
  {
   "cell_type": "code",
   "execution_count": 171,
   "metadata": {},
   "outputs": [
    {
     "data": {
      "text/html": [
       "<div>\n",
       "<style scoped>\n",
       "    .dataframe tbody tr th:only-of-type {\n",
       "        vertical-align: middle;\n",
       "    }\n",
       "\n",
       "    .dataframe tbody tr th {\n",
       "        vertical-align: top;\n",
       "    }\n",
       "\n",
       "    .dataframe thead th {\n",
       "        text-align: right;\n",
       "    }\n",
       "</style>\n",
       "<table border=\"1\" class=\"dataframe\">\n",
       "  <thead>\n",
       "    <tr style=\"text-align: right;\">\n",
       "      <th></th>\n",
       "      <th>name</th>\n",
       "      <th>coeff</th>\n",
       "    </tr>\n",
       "  </thead>\n",
       "  <tbody>\n",
       "    <tr>\n",
       "      <th>0</th>\n",
       "      <td>customer_lifetime_value</td>\n",
       "      <td>-1.169897e-07</td>\n",
       "    </tr>\n",
       "    <tr>\n",
       "      <th>1</th>\n",
       "      <td>income</td>\n",
       "      <td>-1.009349e-06</td>\n",
       "    </tr>\n",
       "    <tr>\n",
       "      <th>2</th>\n",
       "      <td>monthly_premium_auto</td>\n",
       "      <td>1.378621e-02</td>\n",
       "    </tr>\n",
       "    <tr>\n",
       "      <th>3</th>\n",
       "      <td>months_since_last_claim</td>\n",
       "      <td>6.822948e-04</td>\n",
       "    </tr>\n",
       "    <tr>\n",
       "      <th>4</th>\n",
       "      <td>months_since_policy_inception</td>\n",
       "      <td>-5.258884e-05</td>\n",
       "    </tr>\n",
       "    <tr>\n",
       "      <th>5</th>\n",
       "      <td>number_of_open_complaints</td>\n",
       "      <td>-3.242340e-03</td>\n",
       "    </tr>\n",
       "    <tr>\n",
       "      <th>6</th>\n",
       "      <td>number_of_policies</td>\n",
       "      <td>1.868046e-03</td>\n",
       "    </tr>\n",
       "    <tr>\n",
       "      <th>7</th>\n",
       "      <td>month</td>\n",
       "      <td>6.053399e-03</td>\n",
       "    </tr>\n",
       "    <tr>\n",
       "      <th>8</th>\n",
       "      <td>coverage</td>\n",
       "      <td>2.974485e-02</td>\n",
       "    </tr>\n",
       "    <tr>\n",
       "      <th>9</th>\n",
       "      <td>education</td>\n",
       "      <td>-1.675296e-02</td>\n",
       "    </tr>\n",
       "    <tr>\n",
       "      <th>10</th>\n",
       "      <td>vehicle_size</td>\n",
       "      <td>-1.608075e-02</td>\n",
       "    </tr>\n",
       "    <tr>\n",
       "      <th>11</th>\n",
       "      <td>state_Arizona</td>\n",
       "      <td>1.173999e-03</td>\n",
       "    </tr>\n",
       "    <tr>\n",
       "      <th>12</th>\n",
       "      <td>state_California</td>\n",
       "      <td>1.243179e-02</td>\n",
       "    </tr>\n",
       "    <tr>\n",
       "      <th>13</th>\n",
       "      <td>state_Nevada</td>\n",
       "      <td>2.981408e-03</td>\n",
       "    </tr>\n",
       "    <tr>\n",
       "      <th>14</th>\n",
       "      <td>state_Oregon</td>\n",
       "      <td>-2.115090e-02</td>\n",
       "    </tr>\n",
       "    <tr>\n",
       "      <th>15</th>\n",
       "      <td>state_Washington</td>\n",
       "      <td>4.563706e-03</td>\n",
       "    </tr>\n",
       "    <tr>\n",
       "      <th>16</th>\n",
       "      <td>response_No</td>\n",
       "      <td>3.007143e-02</td>\n",
       "    </tr>\n",
       "    <tr>\n",
       "      <th>17</th>\n",
       "      <td>response_Yes</td>\n",
       "      <td>-3.007143e-02</td>\n",
       "    </tr>\n",
       "    <tr>\n",
       "      <th>18</th>\n",
       "      <td>employmentstatus_Disabled</td>\n",
       "      <td>-4.308100e-02</td>\n",
       "    </tr>\n",
       "    <tr>\n",
       "      <th>19</th>\n",
       "      <td>employmentstatus_Employed</td>\n",
       "      <td>-2.661693e-02</td>\n",
       "    </tr>\n",
       "    <tr>\n",
       "      <th>20</th>\n",
       "      <td>employmentstatus_Medical Leave</td>\n",
       "      <td>4.636320e-03</td>\n",
       "    </tr>\n",
       "    <tr>\n",
       "      <th>21</th>\n",
       "      <td>employmentstatus_Retired</td>\n",
       "      <td>-7.450862e-02</td>\n",
       "    </tr>\n",
       "    <tr>\n",
       "      <th>22</th>\n",
       "      <td>employmentstatus_Unemployed</td>\n",
       "      <td>1.395702e-01</td>\n",
       "    </tr>\n",
       "    <tr>\n",
       "      <th>23</th>\n",
       "      <td>gender_F</td>\n",
       "      <td>-1.895664e-02</td>\n",
       "    </tr>\n",
       "    <tr>\n",
       "      <th>24</th>\n",
       "      <td>gender_M</td>\n",
       "      <td>1.895664e-02</td>\n",
       "    </tr>\n",
       "    <tr>\n",
       "      <th>25</th>\n",
       "      <td>location_code_Rural</td>\n",
       "      <td>-9.704156e-01</td>\n",
       "    </tr>\n",
       "    <tr>\n",
       "      <th>26</th>\n",
       "      <td>location_code_Suburban</td>\n",
       "      <td>7.611119e-01</td>\n",
       "    </tr>\n",
       "    <tr>\n",
       "      <th>27</th>\n",
       "      <td>location_code_Urban</td>\n",
       "      <td>2.093037e-01</td>\n",
       "    </tr>\n",
       "    <tr>\n",
       "      <th>28</th>\n",
       "      <td>marital_status_Divorced</td>\n",
       "      <td>-5.780547e-02</td>\n",
       "    </tr>\n",
       "    <tr>\n",
       "      <th>29</th>\n",
       "      <td>marital_status_Married</td>\n",
       "      <td>-7.348543e-02</td>\n",
       "    </tr>\n",
       "    <tr>\n",
       "      <th>30</th>\n",
       "      <td>marital_status_Single</td>\n",
       "      <td>1.312909e-01</td>\n",
       "    </tr>\n",
       "    <tr>\n",
       "      <th>31</th>\n",
       "      <td>policy_type_Corporate Auto</td>\n",
       "      <td>-2.391023e-02</td>\n",
       "    </tr>\n",
       "    <tr>\n",
       "      <th>32</th>\n",
       "      <td>policy_type_Personal Auto</td>\n",
       "      <td>-1.344530e-02</td>\n",
       "    </tr>\n",
       "    <tr>\n",
       "      <th>33</th>\n",
       "      <td>policy_type_Special Auto</td>\n",
       "      <td>3.735553e-02</td>\n",
       "    </tr>\n",
       "    <tr>\n",
       "      <th>34</th>\n",
       "      <td>policy_Corporate L1</td>\n",
       "      <td>4.831124e-03</td>\n",
       "    </tr>\n",
       "    <tr>\n",
       "      <th>35</th>\n",
       "      <td>policy_Corporate L2</td>\n",
       "      <td>-3.028888e-02</td>\n",
       "    </tr>\n",
       "    <tr>\n",
       "      <th>36</th>\n",
       "      <td>policy_Corporate L3</td>\n",
       "      <td>1.547519e-03</td>\n",
       "    </tr>\n",
       "    <tr>\n",
       "      <th>37</th>\n",
       "      <td>policy_Personal L1</td>\n",
       "      <td>5.544066e-03</td>\n",
       "    </tr>\n",
       "    <tr>\n",
       "      <th>38</th>\n",
       "      <td>policy_Personal L2</td>\n",
       "      <td>-1.248876e-02</td>\n",
       "    </tr>\n",
       "    <tr>\n",
       "      <th>39</th>\n",
       "      <td>policy_Personal L3</td>\n",
       "      <td>-6.500608e-03</td>\n",
       "    </tr>\n",
       "    <tr>\n",
       "      <th>40</th>\n",
       "      <td>policy_Special L1</td>\n",
       "      <td>1.057661e-01</td>\n",
       "    </tr>\n",
       "    <tr>\n",
       "      <th>41</th>\n",
       "      <td>policy_Special L2</td>\n",
       "      <td>-6.663596e-03</td>\n",
       "    </tr>\n",
       "    <tr>\n",
       "      <th>42</th>\n",
       "      <td>policy_Special L3</td>\n",
       "      <td>-6.174696e-02</td>\n",
       "    </tr>\n",
       "    <tr>\n",
       "      <th>43</th>\n",
       "      <td>renew_offer_type_Offer1</td>\n",
       "      <td>-1.257770e-02</td>\n",
       "    </tr>\n",
       "    <tr>\n",
       "      <th>44</th>\n",
       "      <td>renew_offer_type_Offer2</td>\n",
       "      <td>1.561776e-02</td>\n",
       "    </tr>\n",
       "    <tr>\n",
       "      <th>45</th>\n",
       "      <td>renew_offer_type_Offer3</td>\n",
       "      <td>-5.812479e-03</td>\n",
       "    </tr>\n",
       "    <tr>\n",
       "      <th>46</th>\n",
       "      <td>renew_offer_type_Offer4</td>\n",
       "      <td>2.772415e-03</td>\n",
       "    </tr>\n",
       "    <tr>\n",
       "      <th>47</th>\n",
       "      <td>sales_channel_Agent</td>\n",
       "      <td>-2.451792e-03</td>\n",
       "    </tr>\n",
       "    <tr>\n",
       "      <th>48</th>\n",
       "      <td>sales_channel_Branch</td>\n",
       "      <td>-1.610527e-04</td>\n",
       "    </tr>\n",
       "    <tr>\n",
       "      <th>49</th>\n",
       "      <td>sales_channel_Call Center</td>\n",
       "      <td>8.071314e-03</td>\n",
       "    </tr>\n",
       "    <tr>\n",
       "      <th>50</th>\n",
       "      <td>sales_channel_Web</td>\n",
       "      <td>-5.458470e-03</td>\n",
       "    </tr>\n",
       "    <tr>\n",
       "      <th>51</th>\n",
       "      <td>vehicle_class_Four-Door Car</td>\n",
       "      <td>-2.622285e-02</td>\n",
       "    </tr>\n",
       "    <tr>\n",
       "      <th>52</th>\n",
       "      <td>vehicle_class_Luxury Car</td>\n",
       "      <td>6.216699e-02</td>\n",
       "    </tr>\n",
       "    <tr>\n",
       "      <th>53</th>\n",
       "      <td>vehicle_class_Luxury SUV</td>\n",
       "      <td>-9.296306e-02</td>\n",
       "    </tr>\n",
       "    <tr>\n",
       "      <th>54</th>\n",
       "      <td>vehicle_class_SUV</td>\n",
       "      <td>3.693480e-02</td>\n",
       "    </tr>\n",
       "    <tr>\n",
       "      <th>55</th>\n",
       "      <td>vehicle_class_Sports Car</td>\n",
       "      <td>4.121506e-02</td>\n",
       "    </tr>\n",
       "    <tr>\n",
       "      <th>56</th>\n",
       "      <td>vehicle_class_Two-Door Car</td>\n",
       "      <td>-2.113095e-02</td>\n",
       "    </tr>\n",
       "    <tr>\n",
       "      <th>57</th>\n",
       "      <td>vehicle_type_A</td>\n",
       "      <td>0.000000e+00</td>\n",
       "    </tr>\n",
       "  </tbody>\n",
       "</table>\n",
       "</div>"
      ],
      "text/plain": [
       "                              name         coeff\n",
       "0          customer_lifetime_value -1.169897e-07\n",
       "1                           income -1.009349e-06\n",
       "2             monthly_premium_auto  1.378621e-02\n",
       "3          months_since_last_claim  6.822948e-04\n",
       "4    months_since_policy_inception -5.258884e-05\n",
       "5        number_of_open_complaints -3.242340e-03\n",
       "6               number_of_policies  1.868046e-03\n",
       "7                            month  6.053399e-03\n",
       "8                         coverage  2.974485e-02\n",
       "9                        education -1.675296e-02\n",
       "10                    vehicle_size -1.608075e-02\n",
       "11                   state_Arizona  1.173999e-03\n",
       "12                state_California  1.243179e-02\n",
       "13                    state_Nevada  2.981408e-03\n",
       "14                    state_Oregon -2.115090e-02\n",
       "15                state_Washington  4.563706e-03\n",
       "16                     response_No  3.007143e-02\n",
       "17                    response_Yes -3.007143e-02\n",
       "18       employmentstatus_Disabled -4.308100e-02\n",
       "19       employmentstatus_Employed -2.661693e-02\n",
       "20  employmentstatus_Medical Leave  4.636320e-03\n",
       "21        employmentstatus_Retired -7.450862e-02\n",
       "22     employmentstatus_Unemployed  1.395702e-01\n",
       "23                        gender_F -1.895664e-02\n",
       "24                        gender_M  1.895664e-02\n",
       "25             location_code_Rural -9.704156e-01\n",
       "26          location_code_Suburban  7.611119e-01\n",
       "27             location_code_Urban  2.093037e-01\n",
       "28         marital_status_Divorced -5.780547e-02\n",
       "29          marital_status_Married -7.348543e-02\n",
       "30           marital_status_Single  1.312909e-01\n",
       "31      policy_type_Corporate Auto -2.391023e-02\n",
       "32       policy_type_Personal Auto -1.344530e-02\n",
       "33        policy_type_Special Auto  3.735553e-02\n",
       "34             policy_Corporate L1  4.831124e-03\n",
       "35             policy_Corporate L2 -3.028888e-02\n",
       "36             policy_Corporate L3  1.547519e-03\n",
       "37              policy_Personal L1  5.544066e-03\n",
       "38              policy_Personal L2 -1.248876e-02\n",
       "39              policy_Personal L3 -6.500608e-03\n",
       "40               policy_Special L1  1.057661e-01\n",
       "41               policy_Special L2 -6.663596e-03\n",
       "42               policy_Special L3 -6.174696e-02\n",
       "43         renew_offer_type_Offer1 -1.257770e-02\n",
       "44         renew_offer_type_Offer2  1.561776e-02\n",
       "45         renew_offer_type_Offer3 -5.812479e-03\n",
       "46         renew_offer_type_Offer4  2.772415e-03\n",
       "47             sales_channel_Agent -2.451792e-03\n",
       "48            sales_channel_Branch -1.610527e-04\n",
       "49       sales_channel_Call Center  8.071314e-03\n",
       "50               sales_channel_Web -5.458470e-03\n",
       "51     vehicle_class_Four-Door Car -2.622285e-02\n",
       "52        vehicle_class_Luxury Car  6.216699e-02\n",
       "53        vehicle_class_Luxury SUV -9.296306e-02\n",
       "54               vehicle_class_SUV  3.693480e-02\n",
       "55        vehicle_class_Sports Car  4.121506e-02\n",
       "56      vehicle_class_Two-Door Car -2.113095e-02\n",
       "57                  vehicle_type_A  0.000000e+00"
      ]
     },
     "execution_count": 171,
     "metadata": {},
     "output_type": "execute_result"
    }
   ],
   "source": [
    "final_dict = {\"name\":feature_names,\"coeff\":coefficients}\n",
    "final_df = pd.DataFrame(final_dict)\n",
    "final_df"
   ]
  },
  {
   "cell_type": "code",
   "execution_count": 172,
   "metadata": {},
   "outputs": [
    {
     "data": {
      "text/plain": [
       "<Axes: xlabel='coeff', ylabel='name'>"
      ]
     },
     "execution_count": 172,
     "metadata": {},
     "output_type": "execute_result"
    },
    {
     "data": {
      "image/png": "[encoded data removed]",
      "text/plain": [
       "<Figure size 1000x1200 with 1 Axes>"
      ]
     },
     "metadata": {},
     "output_type": "display_data"
    }
   ],
   "source": [
    "import seaborn as sns\n",
    "fi_df_sorted = final_df.sort_values(by = \"coeff\", ascending = False)\n",
    "import matplotlib.pyplot as plt\n",
    "plt.figure(figsize = (10,12))\n",
    "sns.barplot(y = final_df[\"name\"], x = final_df[\"coeff\"])"
   ]
  },
  {
   "cell_type": "code",
   "execution_count": 173,
   "metadata": {},
   "outputs": [
    {
     "data": {
      "text/plain": [
       "<Axes: xlabel='name', ylabel='coeff'>"
      ]
     },
     "execution_count": 173,
     "metadata": {},
     "output_type": "execute_result"
    },
    {
     "data": {
      "image/png": "[encoded data removed]",
      "text/plain": [
       "<Figure size 2000x800 with 1 Axes>"
      ]
     },
     "metadata": {},
     "output_type": "display_data"
    }
   ],
   "source": [
    "sns.set(style=\"whitegrid\")\n",
    "plt.figure(figsize=(20, 8))\n",
    "\n",
    "sns.barplot(x = final_df[\"name\"],y =final_df[\"coeff\"])"
   ]
  },
  {
   "cell_type": "code",
   "execution_count": 174,
   "metadata": {},
   "outputs": [
    {
     "data": {
      "text/plain": [
       "count     6455\n",
       "unique       2\n",
       "top       True\n",
       "freq      3983\n",
       "Name: location_code_Suburban, dtype: object"
      ]
     },
     "execution_count": 174,
     "metadata": {},
     "output_type": "execute_result"
    }
   ],
   "source": [
    "X_train[\"location_code_Suburban\"].describe()"
   ]
  },
  {
   "cell_type": "code",
   "execution_count": 175,
   "metadata": {},
   "outputs": [
    {
     "data": {
      "text/plain": [
       "count      6455\n",
       "unique        2\n",
       "top       False\n",
       "freq       5158\n",
       "Name: location_code_Rural, dtype: object"
      ]
     },
     "execution_count": 175,
     "metadata": {},
     "output_type": "execute_result"
    }
   ],
   "source": [
    "X_train[\"location_code_Rural\"].describe()"
   ]
  },
  {
   "cell_type": "code",
   "execution_count": 184,
   "metadata": {},
   "outputs": [],
   "source": [
    "import numpy as np\n",
    "from sklearn.impute import SimpleImputer\n",
    "imp_mean = SimpleImputer(missing_values=np.nan, strategy='mean')\n",
    "X_train=imp_mean.fit_transform(X_train)\n",
    "X_test = imp_mean.fit_transform(X_test)"
   ]
  },
  {
   "cell_type": "markdown",
   "metadata": {},
   "source": [
    "### Linear"
   ]
  },
  {
   "cell_type": "code",
   "execution_count": 185,
   "metadata": {},
   "outputs": [
    {
     "name": "stdout",
     "output_type": "stream",
     "text": [
      "LinearRegression: Train -> 0.4102866382525847, Test -> 0.39044829151114113\n"
     ]
    }
   ],
   "source": [
    "model=LinearRegression()\n",
    "model.fit(X_train, y_train)\n",
    "print(f\"{model.__class__.__name__}: Train -> {model.score(X_train, y_train)}, Test -> {model.score(X_test, y_test)}\")"
   ]
  },
  {
   "cell_type": "markdown",
   "metadata": {},
   "source": [
    "### Lasso"
   ]
  },
  {
   "cell_type": "code",
   "execution_count": 186,
   "metadata": {},
   "outputs": [
    {
     "name": "stdout",
     "output_type": "stream",
     "text": [
      "Lasso: Train -> 0.4102866382525846, Test -> 0.39044829151114135\n"
     ]
    }
   ],
   "source": [
    "from sklearn.linear_model import Lasso,Ridge,ElasticNet, LinearRegression\n",
    "model=Lasso(alpha=0)\n",
    "\n",
    "model.fit(X_train, y_train)\n",
    "print(f\"{model.__class__.__name__}: Train -> {model.score(X_train, y_train)}, Test -> {model.score(X_test, y_test)}\")"
   ]
  },
  {
   "cell_type": "markdown",
   "metadata": {},
   "source": [
    "### Ridge"
   ]
  },
  {
   "cell_type": "code",
   "execution_count": 187,
   "metadata": {},
   "outputs": [
    {
     "name": "stdout",
     "output_type": "stream",
     "text": [
      "Ridge: Train -> 0.4102866382525847, Test -> 0.3904482915111416\n"
     ]
    }
   ],
   "source": [
    "model=Ridge(alpha=0)\n",
    "model.fit(X_train, y_train)\n",
    "print(f\"{model.__class__.__name__}: Train -> {model.score(X_train, y_train)}, Test -> {model.score(X_test, y_test)}\")"
   ]
  },
  {
   "cell_type": "markdown",
   "metadata": {},
   "source": [
    "### Define a function that takes a list of models and trains (and tests) them so we can try a lot of them without repeating code."
   ]
  },
  {
   "cell_type": "code",
   "execution_count": 188,
   "metadata": {},
   "outputs": [
    {
     "name": "stdout",
     "output_type": "stream",
     "text": [
      "LinearRegression: Train -> 0.4102866382525847, Test -> 0.39044829151114113\n",
      "Lasso: Train -> 0.4102866382525846, Test -> 0.39044829151114135\n",
      "Ridge: Train -> 0.4102866382525847, Test -> 0.3904482915111416\n"
     ]
    }
   ],
   "source": [
    "from sklearn.linear_model import Ridge\n",
    "\n",
    "def train_and_test_model(model, X_train, y_train, X_test, y_test):\n",
    "    # Train the model\n",
    "    model.fit(X_train, y_train)\n",
    "    \n",
    "    # Compute train and test scores\n",
    "    train_score = model.score(X_train, y_train)\n",
    "    test_score = model.score(X_test, y_test)\n",
    "    \n",
    "    # Print the scores\n",
    "    print(f\"{model.__class__.__name__}: Train -> {train_score}, Test -> {test_score}\")\n",
    "\n",
    "# Create the Ridge model with alpha=0\n",
    "linear_model = LinearRegression()\n",
    "lasso_model = Lasso(alpha=0)\n",
    "ridge_model = Ridge(alpha=0)\n",
    "# Train and test the Ridge model\n",
    "train_and_test_model(linear_model, X_train, y_train, X_test, y_test)\n",
    "train_and_test_model(lasso_model, X_train, y_train, X_test, y_test)\n",
    "train_and_test_model(ridge_model, X_train, y_train, X_test, y_test)"
   ]
  },
  {
   "cell_type": "code",
   "execution_count": 189,
   "metadata": {},
   "outputs": [
    {
     "name": "stdout",
     "output_type": "stream",
     "text": [
      "LinearRegression: Train -> 0.4102866382525847, Test -> 0.39044829151114113\n",
      "Lasso: Train -> 0.41028563997218404, Test -> 0.39047841068083256\n",
      "Ridge: Train -> 0.41028663823873857, Test -> 0.3904483717747038\n"
     ]
    }
   ],
   "source": [
    "# Create the Ridge model with alpha=0.1\n",
    "linear_model = LinearRegression()\n",
    "lasso_model = Lasso(alpha=0.1)\n",
    "ridge_model = Ridge(alpha=0.1)\n",
    "# Train and test the Ridge model\n",
    "train_and_test_model(linear_model, X_train, y_train, X_test, y_test)\n",
    "train_and_test_model(lasso_model, X_train, y_train, X_test, y_test)\n",
    "train_and_test_model(ridge_model, X_train, y_train, X_test, y_test)"
   ]
  },
  {
   "cell_type": "code",
   "execution_count": 190,
   "metadata": {},
   "outputs": [
    {
     "name": "stdout",
     "output_type": "stream",
     "text": [
      "LinearRegression: Train -> 0.4102866382525847, Test -> 0.39044829151114113\n",
      "Lasso: Train -> 0.4101868066943746, Test -> 0.3906552318144858\n",
      "Ridge: Train -> 0.41028663686907785, Test -> 0.3904490927404889\n"
     ]
    }
   ],
   "source": [
    "# Create the Ridge model with alpha=1\n",
    "linear_model = LinearRegression()\n",
    "lasso_model = Lasso(alpha=1)\n",
    "ridge_model = Ridge(alpha=1)\n",
    "# Train and test the Ridge model\n",
    "train_and_test_model(linear_model, X_train, y_train, X_test, y_test)\n",
    "train_and_test_model(lasso_model, X_train, y_train, X_test, y_test)\n",
    "train_and_test_model(ridge_model, X_train, y_train, X_test, y_test)"
   ]
  },
  {
   "cell_type": "code",
   "execution_count": 191,
   "metadata": {},
   "outputs": [
    {
     "name": "stdout",
     "output_type": "stream",
     "text": [
      "LinearRegression: Train -> 0.4102866382525847, Test -> 0.39044829151114113\n",
      "Lasso: Train -> 0.0, Test -> -0.00026329198924335273\n",
      "Ridge: Train -> 0.40214017920919476, Test -> 0.38533420941407204\n"
     ]
    }
   ],
   "source": [
    "# Create the Ridge model with alpha=10,000\n",
    "linear_model = LinearRegression()\n",
    "lasso_model = Lasso(alpha=10000)\n",
    "ridge_model = Ridge(alpha=10000)\n",
    "# Train and test the Ridge model\n",
    "train_and_test_model(linear_model, X_train, y_train, X_test, y_test)\n",
    "train_and_test_model(lasso_model, X_train, y_train, X_test, y_test)\n",
    "train_and_test_model(ridge_model, X_train, y_train, X_test, y_test)"
   ]
  },
  {
   "cell_type": "markdown",
   "metadata": {},
   "source": [
    "### Use feature selection techniques (P-Value, RFE) to select a subset of features to train the model with (if necessary)."
   ]
  },
  {
   "cell_type": "code",
   "execution_count": 196,
   "metadata": {},
   "outputs": [
    {
     "name": "stdout",
     "output_type": "stream",
     "text": [
      "Fitting estimator with 11 features.\n",
      "Fitting estimator with 10 features.\n",
      "Fitting estimator with 9 features.\n",
      "Fitting estimator with 8 features.\n",
      "Fitting estimator with 7 features.\n",
      "Final selected features: \n"
     ]
    },
    {
     "data": {
      "text/html": [
       "<div>\n",
       "<style scoped>\n",
       "    .dataframe tbody tr th:only-of-type {\n",
       "        vertical-align: middle;\n",
       "    }\n",
       "\n",
       "    .dataframe tbody tr th {\n",
       "        vertical-align: top;\n",
       "    }\n",
       "\n",
       "    .dataframe thead th {\n",
       "        text-align: right;\n",
       "    }\n",
       "</style>\n",
       "<table border=\"1\" class=\"dataframe\">\n",
       "  <thead>\n",
       "    <tr style=\"text-align: right;\">\n",
       "      <th></th>\n",
       "      <th>monthly_premium_auto</th>\n",
       "      <th>number_of_open_complaints</th>\n",
       "      <th>month</th>\n",
       "      <th>coverage</th>\n",
       "      <th>education</th>\n",
       "      <th>vehicle_size</th>\n",
       "    </tr>\n",
       "  </thead>\n",
       "  <tbody>\n",
       "    <tr>\n",
       "      <th>0</th>\n",
       "      <td>69.0</td>\n",
       "      <td>0.0</td>\n",
       "      <td>2.0</td>\n",
       "      <td>0.0</td>\n",
       "      <td>1.0</td>\n",
       "      <td>0.0</td>\n",
       "    </tr>\n",
       "    <tr>\n",
       "      <th>1</th>\n",
       "      <td>113.0</td>\n",
       "      <td>0.0</td>\n",
       "      <td>1.0</td>\n",
       "      <td>0.0</td>\n",
       "      <td>1.0</td>\n",
       "      <td>1.0</td>\n",
       "    </tr>\n",
       "    <tr>\n",
       "      <th>2</th>\n",
       "      <td>93.0</td>\n",
       "      <td>0.0</td>\n",
       "      <td>1.0</td>\n",
       "      <td>1.0</td>\n",
       "      <td>3.0</td>\n",
       "      <td>1.0</td>\n",
       "    </tr>\n",
       "    <tr>\n",
       "      <th>3</th>\n",
       "      <td>61.0</td>\n",
       "      <td>1.0</td>\n",
       "      <td>1.0</td>\n",
       "      <td>0.0</td>\n",
       "      <td>0.0</td>\n",
       "      <td>0.0</td>\n",
       "    </tr>\n",
       "    <tr>\n",
       "      <th>4</th>\n",
       "      <td>107.0</td>\n",
       "      <td>2.0</td>\n",
       "      <td>1.0</td>\n",
       "      <td>2.0</td>\n",
       "      <td>0.0</td>\n",
       "      <td>1.0</td>\n",
       "    </tr>\n",
       "    <tr>\n",
       "      <th>...</th>\n",
       "      <td>...</td>\n",
       "      <td>...</td>\n",
       "      <td>...</td>\n",
       "      <td>...</td>\n",
       "      <td>...</td>\n",
       "      <td>...</td>\n",
       "    </tr>\n",
       "    <tr>\n",
       "      <th>6880</th>\n",
       "      <td>70.0</td>\n",
       "      <td>4.0</td>\n",
       "      <td>1.0</td>\n",
       "      <td>0.0</td>\n",
       "      <td>0.0</td>\n",
       "      <td>0.0</td>\n",
       "    </tr>\n",
       "    <tr>\n",
       "      <th>6881</th>\n",
       "      <td>62.0</td>\n",
       "      <td>0.0</td>\n",
       "      <td>1.0</td>\n",
       "      <td>0.0</td>\n",
       "      <td>1.0</td>\n",
       "      <td>1.0</td>\n",
       "    </tr>\n",
       "    <tr>\n",
       "      <th>6882</th>\n",
       "      <td>121.0</td>\n",
       "      <td>0.0</td>\n",
       "      <td>2.0</td>\n",
       "      <td>1.0</td>\n",
       "      <td>0.0</td>\n",
       "      <td>2.0</td>\n",
       "    </tr>\n",
       "    <tr>\n",
       "      <th>6883</th>\n",
       "      <td>74.0</td>\n",
       "      <td>0.0</td>\n",
       "      <td>1.0</td>\n",
       "      <td>0.0</td>\n",
       "      <td>0.0</td>\n",
       "      <td>1.0</td>\n",
       "    </tr>\n",
       "    <tr>\n",
       "      <th>6884</th>\n",
       "      <td>136.0</td>\n",
       "      <td>0.0</td>\n",
       "      <td>2.0</td>\n",
       "      <td>1.0</td>\n",
       "      <td>0.0</td>\n",
       "      <td>1.0</td>\n",
       "    </tr>\n",
       "  </tbody>\n",
       "</table>\n",
       "<p>6885 rows × 6 columns</p>\n",
       "</div>"
      ],
      "text/plain": [
       "      monthly_premium_auto  number_of_open_complaints  month  coverage  \\\n",
       "0                     69.0                        0.0    2.0       0.0   \n",
       "1                    113.0                        0.0    1.0       0.0   \n",
       "2                     93.0                        0.0    1.0       1.0   \n",
       "3                     61.0                        1.0    1.0       0.0   \n",
       "4                    107.0                        2.0    1.0       2.0   \n",
       "...                    ...                        ...    ...       ...   \n",
       "6880                  70.0                        4.0    1.0       0.0   \n",
       "6881                  62.0                        0.0    1.0       0.0   \n",
       "6882                 121.0                        0.0    2.0       1.0   \n",
       "6883                  74.0                        0.0    1.0       0.0   \n",
       "6884                 136.0                        0.0    2.0       1.0   \n",
       "\n",
       "      education  vehicle_size  \n",
       "0           1.0           0.0  \n",
       "1           1.0           1.0  \n",
       "2           3.0           1.0  \n",
       "3           0.0           0.0  \n",
       "4           0.0           1.0  \n",
       "...         ...           ...  \n",
       "6880        0.0           0.0  \n",
       "6881        1.0           1.0  \n",
       "6882        0.0           2.0  \n",
       "6883        0.0           1.0  \n",
       "6884        0.0           1.0  \n",
       "\n",
       "[6885 rows x 6 columns]"
      ]
     },
     "metadata": {},
     "output_type": "display_data"
    }
   ],
   "source": [
    "from sklearn.linear_model import LinearRegression\n",
    "from sklearn.feature_selection import RFE  ## recursive feature elemination technique\n",
    "\n",
    "X_train, X_test, y_train, y_test = train_test_split(X, y, test_size=0.20, random_state=42)\n",
    "\n",
    "X_train = X_train.select_dtypes(include=np.number)\n",
    "X_test  = X_test.select_dtypes(include=np.number)\n",
    "\n",
    "X_train = pd.DataFrame(X_train, columns=X.columns)\n",
    "X_test  = pd.DataFrame(X_test, columns=X.columns)\n",
    "\n",
    "#X_train.isna().sum()\n",
    "nulls = pd.DataFrame(X_train.isna().sum()).reset_index()\n",
    "#nulls.head()\n",
    "nulls.columns = ['Column','nas']\n",
    "#nulls.head()\n",
    "#nulls[nulls['nas'] > 0].head()\n",
    "cols_to_drop = nulls[nulls['nas'] > 0]['Column'] # Too drastic, but made on pourpose for quick filtering (don't do this in production!!)\n",
    "\n",
    "X_train.drop(columns=cols_to_drop, axis=1, inplace = True)\n",
    "X_test.drop(columns=cols_to_drop, axis=1, inplace = True)\n",
    "\n",
    "#display(X_train)\n",
    "\n",
    "lm = LinearRegression()\n",
    "\n",
    "selector = RFE(lm, n_features_to_select=6, step = 1, verbose = 1) # Step is how many features to add or drop everytime\n",
    "selector.fit(X_train, y_train)\n",
    "\n",
    "kept_features = selector.get_support(indices = True) #returns an array of integers corresponding to nonremoved features\n",
    "kept_features = list(X_train.iloc[:,kept_features].columns)\n",
    "\n",
    "X_train = selector.transform(X_train)\n",
    "X_test  = selector.transform(X_test)\n",
    "\n",
    "X_train = pd.DataFrame(X_train, columns=kept_features)\n",
    "X_test  = pd.DataFrame(X_test, columns=kept_features)\n",
    "\n",
    "print(\"Final selected features: \")\n",
    "display(X_train)"
   ]
  },
  {
   "cell_type": "code",
   "execution_count": null,
   "metadata": {},
   "outputs": [],
   "source": []
  },
  {
   "cell_type": "code",
   "execution_count": null,
   "metadata": {},
   "outputs": [],
   "source": []
  },
  {
   "cell_type": "code",
   "execution_count": null,
   "metadata": {},
   "outputs": [],
   "source": []
  }
 ],
 "metadata": {
  "kernelspec": {
   "display_name": "Python 3 (ipykernel)",
   "language": "python",
   "name": "python3"
  },
  "language_info": {
   "codemirror_mode": {
    "name": "ipython",
    "version": 3
   },
   "file_extension": ".py",
   "mimetype": "text/x-python",
   "name": "python",
   "nbconvert_exporter": "python",
   "pygments_lexer": "ipython3",
   "version": "3.8.18"
  }
 },
 "nbformat": 4,
 "nbformat_minor": 4
}
